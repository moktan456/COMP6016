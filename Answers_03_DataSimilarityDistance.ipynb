{
  "nbformat": 4,
  "nbformat_minor": 0,
  "metadata": {
    "colab": {
      "provenance": [],
      "collapsed_sections": [
        "Hs6ZPb7i8f9e",
        "_OfaS1f28Qk-"
      ],
      "toc_visible": true,
      "include_colab_link": true
    },
    "kernelspec": {
      "name": "python3",
      "display_name": "Python 3"
    },
    "language_info": {
      "name": "python"
    }
  },
  "cells": [
    {
      "cell_type": "markdown",
      "metadata": {
        "id": "view-in-github",
        "colab_type": "text"
      },
      "source": [
        "<a href=\"https://colab.research.google.com/github/moktan456/Data-Mining/blob/main/Answers_03_DataSimilarityDistance.ipynb\" target=\"_parent\"><img src=\"https://colab.research.google.com/assets/colab-badge.svg\" alt=\"Open In Colab\"/></a>"
      ]
    },
    {
      "cell_type": "markdown",
      "metadata": {
        "id": "O2Dcw7Zoo7V6"
      },
      "source": [
        "# Practical 03 Data Similarity and Distance\n",
        "In this pract we will be exploring the concepts of data similarity and data distance.\n",
        "\n",
        "As usual we will be using Jupyter Notebooks, Google Collab, and Python/Pandas. The data for this week can be found on [GitHub](https://github.com/PaulHancock/COMP5009_pracs)."
      ]
    },
    {
      "cell_type": "markdown",
      "metadata": {
        "id": "-AhHtkeCpNaU"
      },
      "source": [
        "# Q3 from Chapter 3 of [Aggarwal](https://www.springer.com/gp/book/9783319141411)\n",
        "\n",
        "We will be working with the [*Ionosphere*](http://archive.ics.uci.edu/ml/datasets/Ionosphere) data set from the UCI Machine Learning Repository.\n",
        "\n",
        "1. Copy the file `ionosphere.data` into the collaboratory space.\n",
        "  - Review the file `ionosphere.names` if you want some context for the data\n",
        "2. Compute the $L_p$ distances between all pairs of the first 10 data points, for p = 1, 2, and $\\infty$\n",
        "3. Compute the contrast measure on the data set for each norm.\n",
        "  - Repeat the exercise after samling the first $r$ dimensions, where $r$ varies from 1 to the full dimensionality of the data.\n",
        "  - Make a plot of contrast vs $r$, compare to figure 3.1 (a) of Aggarwal."
      ]
    },
    {
      "cell_type": "markdown",
      "metadata": {
        "id": "pxp7wZw0rrq7"
      },
      "source": [
        "## 1. Copy the file `ionosphere.data` into the collaboratory space.\n",
        "We want to be able to inspect the files before loading them so we'll download them into a local directory first.\n",
        "To do this we need to use the `urllib` module.\n",
        "\n",
        "Despite the name of the file (`ionosphere.data`) the format is `.csv` so save the file with the appropriate extension."
      ]
    },
    {
      "cell_type": "code",
      "metadata": {
        "id": "nSlTf6YYsGUq"
      },
      "source": [
        "import urllib\n",
        "import urllib.request"
      ],
      "execution_count": null,
      "outputs": []
    },
    {
      "cell_type": "code",
      "metadata": {
        "id": "jCaCNBdysdxz",
        "colab": {
          "base_uri": "https://localhost:8080/"
        },
        "outputId": "07800359-c880-44f9-d5fe-f76c92a71698"
      },
      "source": [
        "data_url = 'https://raw.githubusercontent.com/PaulHancock/COMP5009_pracs/main/data/ionosphere.csv'\n",
        "file_name = 'ionosphere.csv'\n",
        "urllib.request.urlretrieve(data_url, file_name)\n",
        "# now do the same for the ionosphere.names file (at the same location)\n",
        "data_url2 = 'https://raw.githubusercontent.com/PaulHancock/COMP5009_pracs/main/data/ionosphere.names'\n",
        "file_name2 = \"ionosphere.names\"\n",
        "urllib.request.urlretrieve(data_url2, file_name2)"
      ],
      "execution_count": null,
      "outputs": [
        {
          "output_type": "execute_result",
          "data": {
            "text/plain": [
              "('ionosphere.names', <http.client.HTTPMessage at 0x7fe5f7138690>)"
            ]
          },
          "metadata": {},
          "execution_count": 3
        }
      ]
    },
    {
      "cell_type": "markdown",
      "metadata": {
        "id": "hvZw3KFf0_45"
      },
      "source": [
        "Once you have copied the files using the above code, navigate to them and have  a quick look at the raw data and the description file."
      ]
    },
    {
      "cell_type": "markdown",
      "metadata": {
        "id": "3zqxlsWrtYBT"
      },
      "source": [
        "## 2 Compute $L_p$ distances\n",
        "Compute the $L_p$ distances between all pairs of the first 10 data points, for p = 1, 2, and $\\infty$.\n",
        "\n",
        "Note: As per `ionosphere.names` the final attribute is a class attribute either 'g', or 'b'.\n",
        "We don't want to include non-numeric data when computing the $L_p$ norms, so we must drop this attribute."
      ]
    },
    {
      "cell_type": "code",
      "metadata": {
        "id": "udZweCsBvTj3"
      },
      "source": [
        "import pandas as pd\n",
        "import numpy as np"
      ],
      "execution_count": null,
      "outputs": []
    },
    {
      "cell_type": "code",
      "metadata": {
        "id": "eHtb7FMCuBuA"
      },
      "source": [
        "all_data = pd.read_csv('ionosphere.csv',\n",
        "                       header=None) # this csv file has no header\n",
        "all_data.head()"
      ],
      "execution_count": null,
      "outputs": []
    },
    {
      "cell_type": "code",
      "source": [
        "# drop the colum with label 34\n",
        "df = all_data.drop(columns=34)"
      ],
      "metadata": {
        "id": "WCgZRvkiClma"
      },
      "execution_count": null,
      "outputs": []
    },
    {
      "cell_type": "code",
      "source": [
        "# view just one row\n",
        "# we can't use df[0] since that will default to a column index not a row index\n",
        "# instead we use the integer locator `iloc` which we can index as if it were a numpy array\n",
        "# so df.iloc[0] is the first row\n",
        "# df.iloc[0:5,0] would be the first 5 rows, but just the first column\n",
        "df.iloc[0]"
      ],
      "metadata": {
        "id": "VqsHZeN5hbTd",
        "colab": {
          "base_uri": "https://localhost:8080/"
        },
        "outputId": "612770dd-2508-4a15-eb6a-b3cf5d8e7fff"
      },
      "execution_count": null,
      "outputs": [
        {
          "output_type": "execute_result",
          "data": {
            "text/plain": [
              "0     1.00000\n",
              "1     0.00000\n",
              "2     0.99539\n",
              "3    -0.05889\n",
              "4     0.85243\n",
              "5     0.02306\n",
              "6     0.83398\n",
              "7    -0.37708\n",
              "8     1.00000\n",
              "9     0.03760\n",
              "10    0.85243\n",
              "11   -0.17755\n",
              "12    0.59755\n",
              "13   -0.44945\n",
              "14    0.60536\n",
              "15   -0.38223\n",
              "16    0.84356\n",
              "17   -0.38542\n",
              "18    0.58212\n",
              "19   -0.32192\n",
              "20    0.56971\n",
              "21   -0.29674\n",
              "22    0.36946\n",
              "23   -0.47357\n",
              "24    0.56811\n",
              "25   -0.51171\n",
              "26    0.41078\n",
              "27   -0.46168\n",
              "28    0.21266\n",
              "29   -0.34090\n",
              "30    0.42267\n",
              "31   -0.54487\n",
              "32    0.18641\n",
              "33   -0.45300\n",
              "Name: 0, dtype: float64"
            ]
          },
          "metadata": {},
          "execution_count": 8
        }
      ]
    },
    {
      "cell_type": "code",
      "source": [
        "# note that the above shows both the row values and the row indexes\n",
        "# if we want just the values we have to use `.values`\n",
        "df.iloc[0].values"
      ],
      "metadata": {
        "id": "hTTF4FCahymB",
        "colab": {
          "base_uri": "https://localhost:8080/"
        },
        "outputId": "d092cad7-65f3-49f6-d01d-2ee0a78de9c9"
      },
      "execution_count": null,
      "outputs": [
        {
          "output_type": "execute_result",
          "data": {
            "text/plain": [
              "array([ 1.     ,  0.     ,  0.99539, -0.05889,  0.85243,  0.02306,\n",
              "        0.83398, -0.37708,  1.     ,  0.0376 ,  0.85243, -0.17755,\n",
              "        0.59755, -0.44945,  0.60536, -0.38223,  0.84356, -0.38542,\n",
              "        0.58212, -0.32192,  0.56971, -0.29674,  0.36946, -0.47357,\n",
              "        0.56811, -0.51171,  0.41078, -0.46168,  0.21266, -0.3409 ,\n",
              "        0.42267, -0.54487,  0.18641, -0.453  ])"
            ]
          },
          "metadata": {},
          "execution_count": 9
        }
      ]
    },
    {
      "cell_type": "code",
      "metadata": {
        "id": "Ui8WqqOguSWt"
      },
      "source": [
        "# lets write separate functions for each of the lp norms\n",
        "def l1(first_row, second_row):\n",
        "  \"\"\"\n",
        "  Compute the $L_1$ distance between two rows of data\n",
        "  L1(x,y) = Σ_i | x_i-y_i |\n",
        "  \"\"\"\n",
        "  dist = np.sum(np.abs(first_row - second_row))\n",
        "  return dist\n",
        "\n",
        "def l2(first_row, second_row):\n",
        "  \"\"\"\n",
        "  Compute the $L_2$ distance between two rows of data\n",
        "  L2(x,y) = √(Σ_i | x_i-y_i |^2)\n",
        "  \"\"\"\n",
        "  dist = np.sqrt(np.sum(np.abs(first_row - second_row)**2))\n",
        "  return dist\n",
        "\n",
        "def linf(first_row, second_row):\n",
        "  \"\"\"\n",
        "  Compute the $L_\\infty$ distance between two rows of data\n",
        "  Linf(x,y) = max(|x-y|)\n",
        "  \"\"\"\n",
        "  dist = np.max(np.abs(first_row - second_row))\n",
        "  return dist"
      ],
      "execution_count": null,
      "outputs": []
    },
    {
      "cell_type": "code",
      "metadata": {
        "id": "c7x8HiKzvrFr",
        "colab": {
          "base_uri": "https://localhost:8080/"
        },
        "outputId": "6d2306c8-34c7-47b2-898c-4424eee79600"
      },
      "source": [
        "# # test that our function(s) work on the first two rows, using all three norms\n",
        "# We expect that Linf <= L2 <= L1\n",
        "print(f\"L1 = {l1(df.iloc[0], df.iloc[1])}\")\n",
        "print(f\"L2 = {l2(df.iloc[0], df.iloc[1])}\")\n",
        "print(f\"Linf = {linf(df.iloc[0], df.iloc[1])}\")"
      ],
      "execution_count": null,
      "outputs": [
        {
          "output_type": "stream",
          "name": "stdout",
          "text": [
            "L1 = 13.080950000000001\n",
            "L2 = 2.7763589251571923\n",
            "Linf = 1.12221\n"
          ]
        }
      ]
    },
    {
      "cell_type": "markdown",
      "metadata": {
        "id": "tyPDJl6Y10UU"
      },
      "source": [
        "We now have functions which will compute L for p=1,2,$\\infty$, so we must set up a list of all the combinations of the first 10 rows. `itertools` has a function exactly for this: `combinations`."
      ]
    },
    {
      "cell_type": "code",
      "metadata": {
        "id": "i9fvatnmvvfC"
      },
      "source": [
        "# Generate all pairs of rows from the first 10\n",
        "from itertools import combinations"
      ],
      "execution_count": null,
      "outputs": []
    },
    {
      "cell_type": "code",
      "metadata": {
        "id": "qbH0atUgw-Vq"
      },
      "source": [
        "# accessing the first 10 rows we use df.iloc[:10]\n",
        "# our functions want to work on lists of values so we chain the above with .values\n",
        "\n",
        "pairs = combinations(df.iloc[:10].values, # the items from which we are sampling\n",
        "                     2)                   # the number of samples to take at a time\n",
        "lp1_dist = []\n",
        "lp2_dist = []\n",
        "lpinf_dist = []\n",
        "for r1, r2 in pairs:\n",
        "  lp1_dist.append(l1(r1,r2))\n",
        "  lp2_dist.append(l2(r1,r2))\n",
        "  lpinf_dist.append(linf(r1,r2))\n"
      ],
      "execution_count": null,
      "outputs": []
    },
    {
      "cell_type": "code",
      "metadata": {
        "id": "qyaEhsFAxDEF",
        "colab": {
          "base_uri": "https://localhost:8080/"
        },
        "outputId": "160a434f-e8bb-4bac-d25e-25e26caebdcd"
      },
      "source": [
        "# Summarise our data\n",
        "print(f\"Mean of $L_1$ over first 10 rows: {np.mean(lp1_dist):.2f}\")\n",
        "print(f\"Mean of $L_2$ over first 10 rows: {np.mean(lp2_dist):.2f}\")\n",
        "print(f\"Mean of $L_\\infty$ over first 10 rows: {np.mean(lpinf_dist):.2f}\")"
      ],
      "execution_count": null,
      "outputs": [
        {
          "output_type": "stream",
          "name": "stdout",
          "text": [
            "Mean of $L_1$ over first 10 rows: 15.58\n",
            "Mean of $L_2$ over first 10 rows: 3.40\n",
            "Mean of $L_\\infty$ over first 10 rows: 1.20\n"
          ]
        }
      ]
    },
    {
      "cell_type": "code",
      "metadata": {
        "id": "MkHGgqX-2iKi",
        "colab": {
          "base_uri": "https://localhost:8080/"
        },
        "outputId": "8c3c4dc3-77ab-4067-83f3-f967dada9aac"
      },
      "source": [
        "# check that we have always positive values\n",
        "lp1_dist"
      ],
      "execution_count": null,
      "outputs": [
        {
          "output_type": "execute_result",
          "data": {
            "text/plain": [
              "[13.080950000000001,\n",
              " 5.359709999999999,\n",
              " 21.057290000000002,\n",
              " 6.21387,\n",
              " 15.166310000000001,\n",
              " 7.577039999999999,\n",
              " 22.28699,\n",
              " 5.81361,\n",
              " 17.20169,\n",
              " 15.80038,\n",
              " 20.7696,\n",
              " 11.52616,\n",
              " 12.58796,\n",
              " 12.281089999999999,\n",
              " 22.639000000000003,\n",
              " 16.54506,\n",
              " 14.54198,\n",
              " 20.30478,\n",
              " 8.50424,\n",
              " 14.248440000000002,\n",
              " 11.57535,\n",
              " 21.16584,\n",
              " 7.8223,\n",
              " 16.08502,\n",
              " 20.752180000000003,\n",
              " 17.81826,\n",
              " 24.996350000000003,\n",
              " 15.736959999999998,\n",
              " 25.08336,\n",
              " 19.094820000000002,\n",
              " 11.782660000000002,\n",
              " 6.42595,\n",
              " 22.27638,\n",
              " 9.060740000000001,\n",
              " 14.0794,\n",
              " 17.612230000000004,\n",
              " 15.668239999999999,\n",
              " 20.152,\n",
              " 5.57928,\n",
              " 26.06633,\n",
              " 6.564169999999999,\n",
              " 19.53089,\n",
              " 25.007680000000004,\n",
              " 16.48354,\n",
              " 21.27012]"
            ]
          },
          "metadata": {},
          "execution_count": 15
        }
      ]
    },
    {
      "cell_type": "markdown",
      "metadata": {
        "id": "VP7vOnSDzmE9"
      },
      "source": [
        "## 3 Compute the contrast measure\n",
        "Compute the contrast measure on the data set for each norm.\n",
        "  - Repeat the exercise after samling the first $r$ dimensions, where $r$ varies from 1 to the full dimensionality of the data.\n",
        "  - Make a plot of contrast vs $r$, compare to figure 3.1 (a) of Aggarwal.\n"
      ]
    },
    {
      "cell_type": "markdown",
      "metadata": {
        "id": "iqmC6FXY0SgH"
      },
      "source": [
        "\n",
        "Recall that the contrast measure is given by\n",
        "\n",
        "$Contrast(D) = \\frac{D_{max} - D_{min}}{\\mu}$\n"
      ]
    },
    {
      "cell_type": "code",
      "metadata": {
        "id": "lhPy1TKnx9OW"
      },
      "source": [
        "# It would be good to start by computing the distances for all data to some reference point, for each of the $L_p$ norms.\n",
        "r1 = df.iloc[0].values\n",
        "lp1_dist = []\n",
        "lp2_dist = []\n",
        "lpinf_dist = []\n",
        "for r2 in df.iloc[1:].values:\n",
        "  lp1_dist.append(l1(r1,r2))\n",
        "  lp2_dist.append(l2(r1,r2))\n",
        "  lpinf_dist.append(linf(r1,r2))"
      ],
      "execution_count": null,
      "outputs": []
    },
    {
      "cell_type": "code",
      "metadata": {
        "id": "ArKzvAXZ0ikN"
      },
      "source": [
        "# Use the given definition to create a function which computes contrast from a set of distances\n",
        "def contrast(D):\n",
        "  \"\"\"\n",
        "  Compute the contrast of a data set with the given distances.\n",
        "  \"\"\"\n",
        "  c = (np.max(D) - np.min(D)) / np.mean(D)\n",
        "  return c"
      ],
      "execution_count": null,
      "outputs": []
    },
    {
      "cell_type": "code",
      "metadata": {
        "id": "cUqk1hEL00L_",
        "colab": {
          "base_uri": "https://localhost:8080/"
        },
        "outputId": "4116957e-ce48-43b9-a226-4e2288cb734b"
      },
      "source": [
        "# report the contrast for each lp norm\n",
        "print(f\"Contrast for p=1: {contrast(lp1_dist):.2f}\")\n",
        "print(f\"Contrast for p=2: {contrast(lp2_dist):.2f}\")\n",
        "print(f\"Contrast for p=inf: {contrast(lpinf_dist):.2f}\")"
      ],
      "execution_count": null,
      "outputs": [
        {
          "output_type": "stream",
          "name": "stdout",
          "text": [
            "Contrast for p=1: 1.94\n",
            "Contrast for p=2: 1.77\n",
            "Contrast for p=inf: 1.46\n"
          ]
        }
      ]
    },
    {
      "cell_type": "code",
      "metadata": {
        "id": "k2MTeegt01Zc"
      },
      "source": [
        "# As per the question we now compute this for various number of dimensions r\n",
        "c1 = []\n",
        "c2 = []\n",
        "cinf = []\n",
        "r_values = list(range(1,df.shape[1])) # a list of the number of dimensions that we want to iterate over\n",
        "\n",
        "# this is brute force and is not optimised for speed so will take a mintute or two to complete\n",
        "for r in r_values:\n",
        "  r1 = df.iloc[1,:r].values\n",
        "  lp1_dist = []\n",
        "  lp2_dist = []\n",
        "  lpinf_dist = []\n",
        "  for r2 in df.iloc[1:, :r].values:\n",
        "    lp1_dist.append(l1(r1,r2))\n",
        "    lp2_dist.append(l2(r1,r2))\n",
        "    lpinf_dist.append(linf(r1,r2))\n",
        "  c1.append(contrast(lp1_dist))\n",
        "  c2.append(contrast(lp2_dist))\n",
        "  cinf.append(contrast(lpinf_dist))\n"
      ],
      "execution_count": null,
      "outputs": []
    },
    {
      "cell_type": "code",
      "metadata": {
        "id": "dMz6I0RT59a4"
      },
      "source": [
        "# import matplotlib for plotting\n",
        "# make it so that the plots occur inline instead of in a pop-up window\n",
        "%matplotlib inline\n",
        "from matplotlib import pyplot as plt"
      ],
      "execution_count": null,
      "outputs": []
    },
    {
      "cell_type": "code",
      "metadata": {
        "id": "AIpktTj82EHR",
        "colab": {
          "base_uri": "https://localhost:8080/",
          "height": 279
        },
        "outputId": "81a72323-1487-4ad8-921a-5a62f87ac566"
      },
      "source": [
        "fig = plt.figure()\n",
        "ax = fig.add_subplot(1,1,1)\n",
        "ax.plot(r_values, c1, label=\"$L_1$\")\n",
        "ax.plot(r_values, c2, label=\"$L_2$\")\n",
        "ax.plot(r_values, cinf, label=\"$L_\\infty$\")\n",
        "ax.legend()\n",
        "ax.set_xlabel(\"Data dimensions\")\n",
        "ax.set_ylabel(\"Contrast\")\n",
        "plt.show()"
      ],
      "execution_count": null,
      "outputs": [
        {
          "output_type": "display_data",
          "data": {
            "text/plain": [
              "<Figure size 432x288 with 1 Axes>"
            ],
            "image/png": "[encoded data removed]"
          },
          "metadata": {
            "needs_background": "light"
          }
        }
      ]
    },
    {
      "cell_type": "markdown",
      "metadata": {
        "id": "GBp2Hue53c2F"
      },
      "source": [
        "Comparing this to the plot in the text book we can see the same behavior:\n",
        "- Hihger 'p' values means lower contrast\n",
        "- Higher dimenstions means lower contrast"
      ]
    },
    {
      "cell_type": "markdown",
      "metadata": {
        "id": "IwBGiiL38GGK"
      },
      "source": [
        "# Q6 from Chapter 3 of [Aggarwal](https://www.springer.com/gp/book/9783319141411)\n",
        "\n",
        "For this task we will use the KDD Cup 1999 data from last week.\n",
        "\n",
        "1. The data are available via github as [kddcup.arff](https://raw.githubusercontent.com/PaulHancock/COMP5009_pracs/main/data/kddcup99.arff), load them as a pandas data frame.\n",
        "2. Remove the numeric attributes and keep only categorical attributes.\n",
        "3. Remove all duplicate rows.\n",
        "4. Randomly pick a data point (row) and compute it's similarity to all other rows uing:\n",
        "  - Inverse Occurance Frequency Measure\n",
        "  - Overlap Measure\n",
        "5. Find the nearest neighbour for your randomly chosen data point."
      ]
    },
    {
      "cell_type": "markdown",
      "metadata": {
        "id": "d1AGx7bv9VEQ"
      },
      "source": [
        "## 1 Load the data\n",
        "We did this exactly last week so just copy across"
      ]
    },
    {
      "cell_type": "code",
      "metadata": {
        "id": "s40F68Aa2Hv4"
      },
      "source": [
        "import pandas as pd\n",
        "from scipy.io import arff\n",
        "import urllib\n",
        "import urllib.request\n",
        "import numpy as np"
      ],
      "execution_count": null,
      "outputs": []
    },
    {
      "cell_type": "code",
      "metadata": {
        "id": "nqzX-4I09kE_",
        "colab": {
          "base_uri": "https://localhost:8080/"
        },
        "outputId": "ec60fe31-e57c-4b13-f049-f3307c018056"
      },
      "source": [
        "data_url = 'https://raw.githubusercontent.com/PaulHancock/COMP5009_pracs/main/data/kddcup99.arff'\n",
        "file_name = 'kddcup99.arff'\n",
        "# this will download the file, look in your explorer to confirm\n",
        "urllib.request.urlretrieve(data_url, file_name)"
      ],
      "execution_count": null,
      "outputs": [
        {
          "output_type": "execute_result",
          "data": {
            "text/plain": [
              "('kddcup99.arff', <http.client.HTTPMessage at 0x7fe5ee7702d0>)"
            ]
          },
          "metadata": {},
          "execution_count": 23
        }
      ]
    },
    {
      "cell_type": "code",
      "metadata": {
        "id": "4YBDQEe79mV7"
      },
      "source": [
        "# load the data from arff format\n",
        "data = arff.loadarff(file_name)\n",
        "raw_df = pd.DataFrame(data[0]) # note the [0] here."
      ],
      "execution_count": null,
      "outputs": []
    },
    {
      "cell_type": "code",
      "metadata": {
        "id": "5Ufx_gvU4kCb",
        "colab": {
          "base_uri": "https://localhost:8080/",
          "height": 488
        },
        "outputId": "20f2bcaf-67cb-4c30-dec2-1a9279efd3e6"
      },
      "source": [
        "raw_df"
      ],
      "execution_count": null,
      "outputs": [
        {
          "output_type": "execute_result",
          "data": {
            "text/plain": [
              "      duration protocol_type     service   flag  src_bytes  dst_bytes  land  \\\n",
              "0          0.0       b'icmp'    b'ecr_i'  b'SF'     1032.0        0.0  b'0'   \n",
              "1          0.0       b'icmp'    b'ecr_i'  b'SF'     1032.0        0.0  b'0'   \n",
              "2          0.0       b'icmp'    b'ecr_i'  b'SF'     1032.0        0.0  b'0'   \n",
              "3          0.0       b'icmp'    b'ecr_i'  b'SF'     1032.0        0.0  b'0'   \n",
              "4          0.0       b'icmp'    b'ecr_i'  b'SF'     1032.0        0.0  b'0'   \n",
              "...        ...           ...         ...    ...        ...        ...   ...   \n",
              "9995       0.0        b'tcp'     b'ldap'  b'S0'        0.0        0.0  b'0'   \n",
              "9996       0.0        b'tcp'     b'http'  b'SF'      309.0      397.0  b'0'   \n",
              "9997       0.0       b'icmp'    b'ecr_i'  b'SF'     1032.0        0.0  b'0'   \n",
              "9998       0.0       b'icmp'    b'ecr_i'  b'SF'     1032.0        0.0  b'0'   \n",
              "9999       0.0        b'tcp'  b'private'  b'S0'        0.0        0.0  b'0'   \n",
              "\n",
              "      wrong_fragment  urgent  hot  ...  dst_host_srv_count  \\\n",
              "0                0.0     0.0  0.0  ...               255.0   \n",
              "1                0.0     0.0  0.0  ...               255.0   \n",
              "2                0.0     0.0  0.0  ...               255.0   \n",
              "3                0.0     0.0  0.0  ...               255.0   \n",
              "4                0.0     0.0  0.0  ...               255.0   \n",
              "...              ...     ...  ...  ...                 ...   \n",
              "9995             0.0     0.0  0.0  ...                15.0   \n",
              "9996             0.0     0.0  0.0  ...               255.0   \n",
              "9997             0.0     0.0  0.0  ...               255.0   \n",
              "9998             0.0     0.0  0.0  ...               255.0   \n",
              "9999             0.0     0.0  0.0  ...                10.0   \n",
              "\n",
              "     dst_host_same_srv_rate  dst_host_diff_srv_rate  \\\n",
              "0                      1.00                    0.00   \n",
              "1                      1.00                    0.00   \n",
              "2                      1.00                    0.00   \n",
              "3                      1.00                    0.00   \n",
              "4                      1.00                    0.00   \n",
              "...                     ...                     ...   \n",
              "9995                   0.06                    0.07   \n",
              "9996                   1.00                    0.00   \n",
              "9997                   1.00                    0.00   \n",
              "9998                   1.00                    0.00   \n",
              "9999                   0.04                    0.05   \n",
              "\n",
              "      dst_host_same_src_port_rate  dst_host_srv_diff_host_rate  \\\n",
              "0                             1.0                          0.0   \n",
              "1                             1.0                          0.0   \n",
              "2                             1.0                          0.0   \n",
              "3                             1.0                          0.0   \n",
              "4                             1.0                          0.0   \n",
              "...                           ...                          ...   \n",
              "9995                          0.0                          0.0   \n",
              "9996                          0.0                          0.0   \n",
              "9997                          1.0                          0.0   \n",
              "9998                          1.0                          0.0   \n",
              "9999                          0.0                          0.0   \n",
              "\n",
              "      dst_host_serror_rate  dst_host_srv_serror_rate  dst_host_rerror_rate  \\\n",
              "0                      0.0                       0.0                   0.0   \n",
              "1                      0.0                       0.0                   0.0   \n",
              "2                      0.0                       0.0                   0.0   \n",
              "3                      0.0                       0.0                   0.0   \n",
              "4                      0.0                       0.0                   0.0   \n",
              "...                    ...                       ...                   ...   \n",
              "9995                   1.0                       1.0                   0.0   \n",
              "9996                   0.0                       0.0                   0.0   \n",
              "9997                   0.0                       0.0                   0.0   \n",
              "9998                   0.0                       0.0                   0.0   \n",
              "9999                   1.0                       1.0                   0.0   \n",
              "\n",
              "      dst_host_srv_rerror_rate       label  \n",
              "0                          0.0    b'smurf'  \n",
              "1                          0.0    b'smurf'  \n",
              "2                          0.0    b'smurf'  \n",
              "3                          0.0    b'smurf'  \n",
              "4                          0.0    b'smurf'  \n",
              "...                        ...         ...  \n",
              "9995                       0.0  b'neptune'  \n",
              "9996                       0.0   b'normal'  \n",
              "9997                       0.0    b'smurf'  \n",
              "9998                       0.0    b'smurf'  \n",
              "9999                       0.0  b'neptune'  \n",
              "\n",
              "[10000 rows x 42 columns]"
            ],
            "text/html": [
              "\n",
              "  <div id=\"df-d0aabb2e-ffc0-4a5d-821c-11285149c731\">\n",
              "    <div class=\"colab-df-container\">\n",
              "      <div>\n",
              "<style scoped>\n",
              "    .dataframe tbody tr th:only-of-type {\n",
              "        vertical-align: middle;\n",
              "    }\n",
              "\n",
              "    .dataframe tbody tr th {\n",
              "        vertical-align: top;\n",
              "    }\n",
              "\n",
              "    .dataframe thead th {\n",
              "        text-align: right;\n",
              "    }\n",
              "</style>\n",
              "<table border=\"1\" class=\"dataframe\">\n",
              "  <thead>\n",
              "    <tr style=\"text-align: right;\">\n",
              "      <th></th>\n",
              "      <th>duration</th>\n",
              "      <th>protocol_type</th>\n",
              "      <th>service</th>\n",
              "      <th>flag</th>\n",
              "      <th>src_bytes</th>\n",
              "      <th>dst_bytes</th>\n",
              "      <th>land</th>\n",
              "      <th>wrong_fragment</th>\n",
              "      <th>urgent</th>\n",
              "      <th>hot</th>\n",
              "      <th>...</th>\n",
              "      <th>dst_host_srv_count</th>\n",
              "      <th>dst_host_same_srv_rate</th>\n",
              "      <th>dst_host_diff_srv_rate</th>\n",
              "      <th>dst_host_same_src_port_rate</th>\n",
              "      <th>dst_host_srv_diff_host_rate</th>\n",
              "      <th>dst_host_serror_rate</th>\n",
              "      <th>dst_host_srv_serror_rate</th>\n",
              "      <th>dst_host_rerror_rate</th>\n",
              "      <th>dst_host_srv_rerror_rate</th>\n",
              "      <th>label</th>\n",
              "    </tr>\n",
              "  </thead>\n",
              "  <tbody>\n",
              "    <tr>\n",
              "      <th>0</th>\n",
              "      <td>0.0</td>\n",
              "      <td>b'icmp'</td>\n",
              "      <td>b'ecr_i'</td>\n",
              "      <td>b'SF'</td>\n",
              "      <td>1032.0</td>\n",
              "      <td>0.0</td>\n",
              "      <td>b'0'</td>\n",
              "      <td>0.0</td>\n",
              "      <td>0.0</td>\n",
              "      <td>0.0</td>\n",
              "      <td>...</td>\n",
              "      <td>255.0</td>\n",
              "      <td>1.00</td>\n",
              "      <td>0.00</td>\n",
              "      <td>1.0</td>\n",
              "      <td>0.0</td>\n",
              "      <td>0.0</td>\n",
              "      <td>0.0</td>\n",
              "      <td>0.0</td>\n",
              "      <td>0.0</td>\n",
              "      <td>b'smurf'</td>\n",
              "    </tr>\n",
              "    <tr>\n",
              "      <th>1</th>\n",
              "      <td>0.0</td>\n",
              "      <td>b'icmp'</td>\n",
              "      <td>b'ecr_i'</td>\n",
              "      <td>b'SF'</td>\n",
              "      <td>1032.0</td>\n",
              "      <td>0.0</td>\n",
              "      <td>b'0'</td>\n",
              "      <td>0.0</td>\n",
              "      <td>0.0</td>\n",
              "      <td>0.0</td>\n",
              "      <td>...</td>\n",
              "      <td>255.0</td>\n",
              "      <td>1.00</td>\n",
              "      <td>0.00</td>\n",
              "      <td>1.0</td>\n",
              "      <td>0.0</td>\n",
              "      <td>0.0</td>\n",
              "      <td>0.0</td>\n",
              "      <td>0.0</td>\n",
              "      <td>0.0</td>\n",
              "      <td>b'smurf'</td>\n",
              "    </tr>\n",
              "    <tr>\n",
              "      <th>2</th>\n",
              "      <td>0.0</td>\n",
              "      <td>b'icmp'</td>\n",
              "      <td>b'ecr_i'</td>\n",
              "      <td>b'SF'</td>\n",
              "      <td>1032.0</td>\n",
              "      <td>0.0</td>\n",
              "      <td>b'0'</td>\n",
              "      <td>0.0</td>\n",
              "      <td>0.0</td>\n",
              "      <td>0.0</td>\n",
              "      <td>...</td>\n",
              "      <td>255.0</td>\n",
              "      <td>1.00</td>\n",
              "      <td>0.00</td>\n",
              "      <td>1.0</td>\n",
              "      <td>0.0</td>\n",
              "      <td>0.0</td>\n",
              "      <td>0.0</td>\n",
              "      <td>0.0</td>\n",
              "      <td>0.0</td>\n",
              "      <td>b'smurf'</td>\n",
              "    </tr>\n",
              "    <tr>\n",
              "      <th>3</th>\n",
              "      <td>0.0</td>\n",
              "      <td>b'icmp'</td>\n",
              "      <td>b'ecr_i'</td>\n",
              "      <td>b'SF'</td>\n",
              "      <td>1032.0</td>\n",
              "      <td>0.0</td>\n",
              "      <td>b'0'</td>\n",
              "      <td>0.0</td>\n",
              "      <td>0.0</td>\n",
              "      <td>0.0</td>\n",
              "      <td>...</td>\n",
              "      <td>255.0</td>\n",
              "      <td>1.00</td>\n",
              "      <td>0.00</td>\n",
              "      <td>1.0</td>\n",
              "      <td>0.0</td>\n",
              "      <td>0.0</td>\n",
              "      <td>0.0</td>\n",
              "      <td>0.0</td>\n",
              "      <td>0.0</td>\n",
              "      <td>b'smurf'</td>\n",
              "    </tr>\n",
              "    <tr>\n",
              "      <th>4</th>\n",
              "      <td>0.0</td>\n",
              "      <td>b'icmp'</td>\n",
              "      <td>b'ecr_i'</td>\n",
              "      <td>b'SF'</td>\n",
              "      <td>1032.0</td>\n",
              "      <td>0.0</td>\n",
              "      <td>b'0'</td>\n",
              "      <td>0.0</td>\n",
              "      <td>0.0</td>\n",
              "      <td>0.0</td>\n",
              "      <td>...</td>\n",
              "      <td>255.0</td>\n",
              "      <td>1.00</td>\n",
              "      <td>0.00</td>\n",
              "      <td>1.0</td>\n",
              "      <td>0.0</td>\n",
              "      <td>0.0</td>\n",
              "      <td>0.0</td>\n",
              "      <td>0.0</td>\n",
              "      <td>0.0</td>\n",
              "      <td>b'smurf'</td>\n",
              "    </tr>\n",
              "    <tr>\n",
              "      <th>...</th>\n",
              "      <td>...</td>\n",
              "      <td>...</td>\n",
              "      <td>...</td>\n",
              "      <td>...</td>\n",
              "      <td>...</td>\n",
              "      <td>...</td>\n",
              "      <td>...</td>\n",
              "      <td>...</td>\n",
              "      <td>...</td>\n",
              "      <td>...</td>\n",
              "      <td>...</td>\n",
              "      <td>...</td>\n",
              "      <td>...</td>\n",
              "      <td>...</td>\n",
              "      <td>...</td>\n",
              "      <td>...</td>\n",
              "      <td>...</td>\n",
              "      <td>...</td>\n",
              "      <td>...</td>\n",
              "      <td>...</td>\n",
              "      <td>...</td>\n",
              "    </tr>\n",
              "    <tr>\n",
              "      <th>9995</th>\n",
              "      <td>0.0</td>\n",
              "      <td>b'tcp'</td>\n",
              "      <td>b'ldap'</td>\n",
              "      <td>b'S0'</td>\n",
              "      <td>0.0</td>\n",
              "      <td>0.0</td>\n",
              "      <td>b'0'</td>\n",
              "      <td>0.0</td>\n",
              "      <td>0.0</td>\n",
              "      <td>0.0</td>\n",
              "      <td>...</td>\n",
              "      <td>15.0</td>\n",
              "      <td>0.06</td>\n",
              "      <td>0.07</td>\n",
              "      <td>0.0</td>\n",
              "      <td>0.0</td>\n",
              "      <td>1.0</td>\n",
              "      <td>1.0</td>\n",
              "      <td>0.0</td>\n",
              "      <td>0.0</td>\n",
              "      <td>b'neptune'</td>\n",
              "    </tr>\n",
              "    <tr>\n",
              "      <th>9996</th>\n",
              "      <td>0.0</td>\n",
              "      <td>b'tcp'</td>\n",
              "      <td>b'http'</td>\n",
              "      <td>b'SF'</td>\n",
              "      <td>309.0</td>\n",
              "      <td>397.0</td>\n",
              "      <td>b'0'</td>\n",
              "      <td>0.0</td>\n",
              "      <td>0.0</td>\n",
              "      <td>0.0</td>\n",
              "      <td>...</td>\n",
              "      <td>255.0</td>\n",
              "      <td>1.00</td>\n",
              "      <td>0.00</td>\n",
              "      <td>0.0</td>\n",
              "      <td>0.0</td>\n",
              "      <td>0.0</td>\n",
              "      <td>0.0</td>\n",
              "      <td>0.0</td>\n",
              "      <td>0.0</td>\n",
              "      <td>b'normal'</td>\n",
              "    </tr>\n",
              "    <tr>\n",
              "      <th>9997</th>\n",
              "      <td>0.0</td>\n",
              "      <td>b'icmp'</td>\n",
              "      <td>b'ecr_i'</td>\n",
              "      <td>b'SF'</td>\n",
              "      <td>1032.0</td>\n",
              "      <td>0.0</td>\n",
              "      <td>b'0'</td>\n",
              "      <td>0.0</td>\n",
              "      <td>0.0</td>\n",
              "      <td>0.0</td>\n",
              "      <td>...</td>\n",
              "      <td>255.0</td>\n",
              "      <td>1.00</td>\n",
              "      <td>0.00</td>\n",
              "      <td>1.0</td>\n",
              "      <td>0.0</td>\n",
              "      <td>0.0</td>\n",
              "      <td>0.0</td>\n",
              "      <td>0.0</td>\n",
              "      <td>0.0</td>\n",
              "      <td>b'smurf'</td>\n",
              "    </tr>\n",
              "    <tr>\n",
              "      <th>9998</th>\n",
              "      <td>0.0</td>\n",
              "      <td>b'icmp'</td>\n",
              "      <td>b'ecr_i'</td>\n",
              "      <td>b'SF'</td>\n",
              "      <td>1032.0</td>\n",
              "      <td>0.0</td>\n",
              "      <td>b'0'</td>\n",
              "      <td>0.0</td>\n",
              "      <td>0.0</td>\n",
              "      <td>0.0</td>\n",
              "      <td>...</td>\n",
              "      <td>255.0</td>\n",
              "      <td>1.00</td>\n",
              "      <td>0.00</td>\n",
              "      <td>1.0</td>\n",
              "      <td>0.0</td>\n",
              "      <td>0.0</td>\n",
              "      <td>0.0</td>\n",
              "      <td>0.0</td>\n",
              "      <td>0.0</td>\n",
              "      <td>b'smurf'</td>\n",
              "    </tr>\n",
              "    <tr>\n",
              "      <th>9999</th>\n",
              "      <td>0.0</td>\n",
              "      <td>b'tcp'</td>\n",
              "      <td>b'private'</td>\n",
              "      <td>b'S0'</td>\n",
              "      <td>0.0</td>\n",
              "      <td>0.0</td>\n",
              "      <td>b'0'</td>\n",
              "      <td>0.0</td>\n",
              "      <td>0.0</td>\n",
              "      <td>0.0</td>\n",
              "      <td>...</td>\n",
              "      <td>10.0</td>\n",
              "      <td>0.04</td>\n",
              "      <td>0.05</td>\n",
              "      <td>0.0</td>\n",
              "      <td>0.0</td>\n",
              "      <td>1.0</td>\n",
              "      <td>1.0</td>\n",
              "      <td>0.0</td>\n",
              "      <td>0.0</td>\n",
              "      <td>b'neptune'</td>\n",
              "    </tr>\n",
              "  </tbody>\n",
              "</table>\n",
              "<p>10000 rows × 42 columns</p>\n",
              "</div>\n",
              "      <button class=\"colab-df-convert\" onclick=\"convertToInteractive('df-d0aabb2e-ffc0-4a5d-821c-11285149c731')\"\n",
              "              title=\"Convert this dataframe to an interactive table.\"\n",
              "              style=\"display:none;\">\n",
              "        \n",
              "  <svg xmlns=\"http://www.w3.org/2000/svg\" height=\"24px\"viewBox=\"0 0 24 24\"\n",
              "       width=\"24px\">\n",
              "    <path d=\"M0 0h24v24H0V0z\" fill=\"none\"/>\n",
              "    <path d=\"M18.56 5.44l.94 2.06.94-2.06 2.06-.94-2.06-.94-.94-2.06-.94 2.06-2.06.94zm-11 1L8.5 8.5l.94-2.06 2.06-.94-2.06-.94L8.5 2.5l-.94 2.06-2.06.94zm10 10l.94 2.06.94-2.06 2.06-.94-2.06-.94-.94-2.06-.94 2.06-2.06.94z\"/><path d=\"M17.41 7.96l-1.37-1.37c-.4-.4-.92-.59-1.43-.59-.52 0-1.04.2-1.43.59L10.3 9.45l-7.72 7.72c-.78.78-.78 2.05 0 2.83L4 21.41c.39.39.9.59 1.41.59.51 0 1.02-.2 1.41-.59l7.78-7.78 2.81-2.81c.8-.78.8-2.07 0-2.86zM5.41 20L4 18.59l7.72-7.72 1.47 1.35L5.41 20z\"/>\n",
              "  </svg>\n",
              "      </button>\n",
              "      \n",
              "  <style>\n",
              "    .colab-df-container {\n",
              "      display:flex;\n",
              "      flex-wrap:wrap;\n",
              "      gap: 12px;\n",
              "    }\n",
              "\n",
              "    .colab-df-convert {\n",
              "      background-color: #E8F0FE;\n",
              "      border: none;\n",
              "      border-radius: 50%;\n",
              "      cursor: pointer;\n",
              "      display: none;\n",
              "      fill: #1967D2;\n",
              "      height: 32px;\n",
              "      padding: 0 0 0 0;\n",
              "      width: 32px;\n",
              "    }\n",
              "\n",
              "    .colab-df-convert:hover {\n",
              "      background-color: #E2EBFA;\n",
              "      box-shadow: 0px 1px 2px rgba(60, 64, 67, 0.3), 0px 1px 3px 1px rgba(60, 64, 67, 0.15);\n",
              "      fill: #174EA6;\n",
              "    }\n",
              "\n",
              "    [theme=dark] .colab-df-convert {\n",
              "      background-color: #3B4455;\n",
              "      fill: #D2E3FC;\n",
              "    }\n",
              "\n",
              "    [theme=dark] .colab-df-convert:hover {\n",
              "      background-color: #434B5C;\n",
              "      box-shadow: 0px 1px 3px 1px rgba(0, 0, 0, 0.15);\n",
              "      filter: drop-shadow(0px 1px 2px rgba(0, 0, 0, 0.3));\n",
              "      fill: #FFFFFF;\n",
              "    }\n",
              "  </style>\n",
              "\n",
              "      <script>\n",
              "        const buttonEl =\n",
              "          document.querySelector('#df-d0aabb2e-ffc0-4a5d-821c-11285149c731 button.colab-df-convert');\n",
              "        buttonEl.style.display =\n",
              "          google.colab.kernel.accessAllowed ? 'block' : 'none';\n",
              "\n",
              "        async function convertToInteractive(key) {\n",
              "          const element = document.querySelector('#df-d0aabb2e-ffc0-4a5d-821c-11285149c731');\n",
              "          const dataTable =\n",
              "            await google.colab.kernel.invokeFunction('convertToInteractive',\n",
              "                                                     [key], {});\n",
              "          if (!dataTable) return;\n",
              "\n",
              "          const docLinkHtml = 'Like what you see? Visit the ' +\n",
              "            '<a target=\"_blank\" href=https://colab.research.google.com/notebooks/data_table.ipynb>data table notebook</a>'\n",
              "            + ' to learn more about interactive tables.';\n",
              "          element.innerHTML = '';\n",
              "          dataTable['output_type'] = 'display_data';\n",
              "          await google.colab.output.renderOutput(dataTable, element);\n",
              "          const docLink = document.createElement('div');\n",
              "          docLink.innerHTML = docLinkHtml;\n",
              "          element.appendChild(docLink);\n",
              "        }\n",
              "      </script>\n",
              "    </div>\n",
              "  </div>\n",
              "  "
            ]
          },
          "metadata": {},
          "execution_count": 25
        }
      ]
    },
    {
      "cell_type": "markdown",
      "metadata": {
        "id": "mckCGoAH4mo9"
      },
      "source": [
        "## 2 Remove numeric attributes\n",
        "Remove the numeric attributes and keep only categorical attributes."
      ]
    },
    {
      "cell_type": "code",
      "metadata": {
        "id": "c3yEpe4W9n_I",
        "colab": {
          "base_uri": "https://localhost:8080/"
        },
        "outputId": "36f75379-7485-4760-976d-3ce7afb231a4"
      },
      "source": [
        "# Determine the data type for each coulmn\n",
        "raw_df.dtypes"
      ],
      "execution_count": null,
      "outputs": [
        {
          "output_type": "execute_result",
          "data": {
            "text/plain": [
              "duration                       float64\n",
              "protocol_type                   object\n",
              "service                         object\n",
              "flag                            object\n",
              "src_bytes                      float64\n",
              "dst_bytes                      float64\n",
              "land                            object\n",
              "wrong_fragment                 float64\n",
              "urgent                         float64\n",
              "hot                            float64\n",
              "num_failed_logins              float64\n",
              "logged_in                       object\n",
              "lnum_compromised               float64\n",
              "lroot_shell                    float64\n",
              "lsu_attempted                  float64\n",
              "lnum_root                      float64\n",
              "lnum_file_creations            float64\n",
              "lnum_shells                    float64\n",
              "lnum_access_files              float64\n",
              "lnum_outbound_cmds             float64\n",
              "is_host_login                   object\n",
              "is_guest_login                  object\n",
              "count                          float64\n",
              "srv_count                      float64\n",
              "serror_rate                    float64\n",
              "srv_serror_rate                float64\n",
              "rerror_rate                    float64\n",
              "srv_rerror_rate                float64\n",
              "same_srv_rate                  float64\n",
              "diff_srv_rate                  float64\n",
              "srv_diff_host_rate             float64\n",
              "dst_host_count                 float64\n",
              "dst_host_srv_count             float64\n",
              "dst_host_same_srv_rate         float64\n",
              "dst_host_diff_srv_rate         float64\n",
              "dst_host_same_src_port_rate    float64\n",
              "dst_host_srv_diff_host_rate    float64\n",
              "dst_host_serror_rate           float64\n",
              "dst_host_srv_serror_rate       float64\n",
              "dst_host_rerror_rate           float64\n",
              "dst_host_srv_rerror_rate       float64\n",
              "label                           object\n",
              "dtype: object"
            ]
          },
          "metadata": {},
          "execution_count": 26
        }
      ]
    },
    {
      "cell_type": "code",
      "metadata": {
        "id": "_5HHNzZl9rsK",
        "colab": {
          "base_uri": "https://localhost:8080/",
          "height": 424
        },
        "outputId": "62509da1-62ee-4768-8ab4-c3342785418e"
      },
      "source": [
        "# note that the string columns are of type object so select just those\n",
        "df = raw_df.select_dtypes(include=object)\n",
        "df"
      ],
      "execution_count": null,
      "outputs": [
        {
          "output_type": "execute_result",
          "data": {
            "text/plain": [
              "     protocol_type     service   flag  land logged_in is_host_login  \\\n",
              "0          b'icmp'    b'ecr_i'  b'SF'  b'0'      b'0'          b'0'   \n",
              "1          b'icmp'    b'ecr_i'  b'SF'  b'0'      b'0'          b'0'   \n",
              "2          b'icmp'    b'ecr_i'  b'SF'  b'0'      b'0'          b'0'   \n",
              "3          b'icmp'    b'ecr_i'  b'SF'  b'0'      b'0'          b'0'   \n",
              "4          b'icmp'    b'ecr_i'  b'SF'  b'0'      b'0'          b'0'   \n",
              "...            ...         ...    ...   ...       ...           ...   \n",
              "9995        b'tcp'     b'ldap'  b'S0'  b'0'      b'0'          b'0'   \n",
              "9996        b'tcp'     b'http'  b'SF'  b'0'      b'1'          b'0'   \n",
              "9997       b'icmp'    b'ecr_i'  b'SF'  b'0'      b'0'          b'0'   \n",
              "9998       b'icmp'    b'ecr_i'  b'SF'  b'0'      b'0'          b'0'   \n",
              "9999        b'tcp'  b'private'  b'S0'  b'0'      b'0'          b'0'   \n",
              "\n",
              "     is_guest_login       label  \n",
              "0              b'0'    b'smurf'  \n",
              "1              b'0'    b'smurf'  \n",
              "2              b'0'    b'smurf'  \n",
              "3              b'0'    b'smurf'  \n",
              "4              b'0'    b'smurf'  \n",
              "...             ...         ...  \n",
              "9995           b'0'  b'neptune'  \n",
              "9996           b'0'   b'normal'  \n",
              "9997           b'0'    b'smurf'  \n",
              "9998           b'0'    b'smurf'  \n",
              "9999           b'0'  b'neptune'  \n",
              "\n",
              "[10000 rows x 8 columns]"
            ],
            "text/html": [
              "\n",
              "  <div id=\"df-e119b71d-092c-418d-a231-2408032640cc\">\n",
              "    <div class=\"colab-df-container\">\n",
              "      <div>\n",
              "<style scoped>\n",
              "    .dataframe tbody tr th:only-of-type {\n",
              "        vertical-align: middle;\n",
              "    }\n",
              "\n",
              "    .dataframe tbody tr th {\n",
              "        vertical-align: top;\n",
              "    }\n",
              "\n",
              "    .dataframe thead th {\n",
              "        text-align: right;\n",
              "    }\n",
              "</style>\n",
              "<table border=\"1\" class=\"dataframe\">\n",
              "  <thead>\n",
              "    <tr style=\"text-align: right;\">\n",
              "      <th></th>\n",
              "      <th>protocol_type</th>\n",
              "      <th>service</th>\n",
              "      <th>flag</th>\n",
              "      <th>land</th>\n",
              "      <th>logged_in</th>\n",
              "      <th>is_host_login</th>\n",
              "      <th>is_guest_login</th>\n",
              "      <th>label</th>\n",
              "    </tr>\n",
              "  </thead>\n",
              "  <tbody>\n",
              "    <tr>\n",
              "      <th>0</th>\n",
              "      <td>b'icmp'</td>\n",
              "      <td>b'ecr_i'</td>\n",
              "      <td>b'SF'</td>\n",
              "      <td>b'0'</td>\n",
              "      <td>b'0'</td>\n",
              "      <td>b'0'</td>\n",
              "      <td>b'0'</td>\n",
              "      <td>b'smurf'</td>\n",
              "    </tr>\n",
              "    <tr>\n",
              "      <th>1</th>\n",
              "      <td>b'icmp'</td>\n",
              "      <td>b'ecr_i'</td>\n",
              "      <td>b'SF'</td>\n",
              "      <td>b'0'</td>\n",
              "      <td>b'0'</td>\n",
              "      <td>b'0'</td>\n",
              "      <td>b'0'</td>\n",
              "      <td>b'smurf'</td>\n",
              "    </tr>\n",
              "    <tr>\n",
              "      <th>2</th>\n",
              "      <td>b'icmp'</td>\n",
              "      <td>b'ecr_i'</td>\n",
              "      <td>b'SF'</td>\n",
              "      <td>b'0'</td>\n",
              "      <td>b'0'</td>\n",
              "      <td>b'0'</td>\n",
              "      <td>b'0'</td>\n",
              "      <td>b'smurf'</td>\n",
              "    </tr>\n",
              "    <tr>\n",
              "      <th>3</th>\n",
              "      <td>b'icmp'</td>\n",
              "      <td>b'ecr_i'</td>\n",
              "      <td>b'SF'</td>\n",
              "      <td>b'0'</td>\n",
              "      <td>b'0'</td>\n",
              "      <td>b'0'</td>\n",
              "      <td>b'0'</td>\n",
              "      <td>b'smurf'</td>\n",
              "    </tr>\n",
              "    <tr>\n",
              "      <th>4</th>\n",
              "      <td>b'icmp'</td>\n",
              "      <td>b'ecr_i'</td>\n",
              "      <td>b'SF'</td>\n",
              "      <td>b'0'</td>\n",
              "      <td>b'0'</td>\n",
              "      <td>b'0'</td>\n",
              "      <td>b'0'</td>\n",
              "      <td>b'smurf'</td>\n",
              "    </tr>\n",
              "    <tr>\n",
              "      <th>...</th>\n",
              "      <td>...</td>\n",
              "      <td>...</td>\n",
              "      <td>...</td>\n",
              "      <td>...</td>\n",
              "      <td>...</td>\n",
              "      <td>...</td>\n",
              "      <td>...</td>\n",
              "      <td>...</td>\n",
              "    </tr>\n",
              "    <tr>\n",
              "      <th>9995</th>\n",
              "      <td>b'tcp'</td>\n",
              "      <td>b'ldap'</td>\n",
              "      <td>b'S0'</td>\n",
              "      <td>b'0'</td>\n",
              "      <td>b'0'</td>\n",
              "      <td>b'0'</td>\n",
              "      <td>b'0'</td>\n",
              "      <td>b'neptune'</td>\n",
              "    </tr>\n",
              "    <tr>\n",
              "      <th>9996</th>\n",
              "      <td>b'tcp'</td>\n",
              "      <td>b'http'</td>\n",
              "      <td>b'SF'</td>\n",
              "      <td>b'0'</td>\n",
              "      <td>b'1'</td>\n",
              "      <td>b'0'</td>\n",
              "      <td>b'0'</td>\n",
              "      <td>b'normal'</td>\n",
              "    </tr>\n",
              "    <tr>\n",
              "      <th>9997</th>\n",
              "      <td>b'icmp'</td>\n",
              "      <td>b'ecr_i'</td>\n",
              "      <td>b'SF'</td>\n",
              "      <td>b'0'</td>\n",
              "      <td>b'0'</td>\n",
              "      <td>b'0'</td>\n",
              "      <td>b'0'</td>\n",
              "      <td>b'smurf'</td>\n",
              "    </tr>\n",
              "    <tr>\n",
              "      <th>9998</th>\n",
              "      <td>b'icmp'</td>\n",
              "      <td>b'ecr_i'</td>\n",
              "      <td>b'SF'</td>\n",
              "      <td>b'0'</td>\n",
              "      <td>b'0'</td>\n",
              "      <td>b'0'</td>\n",
              "      <td>b'0'</td>\n",
              "      <td>b'smurf'</td>\n",
              "    </tr>\n",
              "    <tr>\n",
              "      <th>9999</th>\n",
              "      <td>b'tcp'</td>\n",
              "      <td>b'private'</td>\n",
              "      <td>b'S0'</td>\n",
              "      <td>b'0'</td>\n",
              "      <td>b'0'</td>\n",
              "      <td>b'0'</td>\n",
              "      <td>b'0'</td>\n",
              "      <td>b'neptune'</td>\n",
              "    </tr>\n",
              "  </tbody>\n",
              "</table>\n",
              "<p>10000 rows × 8 columns</p>\n",
              "</div>\n",
              "      <button class=\"colab-df-convert\" onclick=\"convertToInteractive('df-e119b71d-092c-418d-a231-2408032640cc')\"\n",
              "              title=\"Convert this dataframe to an interactive table.\"\n",
              "              style=\"display:none;\">\n",
              "        \n",
              "  <svg xmlns=\"http://www.w3.org/2000/svg\" height=\"24px\"viewBox=\"0 0 24 24\"\n",
              "       width=\"24px\">\n",
              "    <path d=\"M0 0h24v24H0V0z\" fill=\"none\"/>\n",
              "    <path d=\"M18.56 5.44l.94 2.06.94-2.06 2.06-.94-2.06-.94-.94-2.06-.94 2.06-2.06.94zm-11 1L8.5 8.5l.94-2.06 2.06-.94-2.06-.94L8.5 2.5l-.94 2.06-2.06.94zm10 10l.94 2.06.94-2.06 2.06-.94-2.06-.94-.94-2.06-.94 2.06-2.06.94z\"/><path d=\"M17.41 7.96l-1.37-1.37c-.4-.4-.92-.59-1.43-.59-.52 0-1.04.2-1.43.59L10.3 9.45l-7.72 7.72c-.78.78-.78 2.05 0 2.83L4 21.41c.39.39.9.59 1.41.59.51 0 1.02-.2 1.41-.59l7.78-7.78 2.81-2.81c.8-.78.8-2.07 0-2.86zM5.41 20L4 18.59l7.72-7.72 1.47 1.35L5.41 20z\"/>\n",
              "  </svg>\n",
              "      </button>\n",
              "      \n",
              "  <style>\n",
              "    .colab-df-container {\n",
              "      display:flex;\n",
              "      flex-wrap:wrap;\n",
              "      gap: 12px;\n",
              "    }\n",
              "\n",
              "    .colab-df-convert {\n",
              "      background-color: #E8F0FE;\n",
              "      border: none;\n",
              "      border-radius: 50%;\n",
              "      cursor: pointer;\n",
              "      display: none;\n",
              "      fill: #1967D2;\n",
              "      height: 32px;\n",
              "      padding: 0 0 0 0;\n",
              "      width: 32px;\n",
              "    }\n",
              "\n",
              "    .colab-df-convert:hover {\n",
              "      background-color: #E2EBFA;\n",
              "      box-shadow: 0px 1px 2px rgba(60, 64, 67, 0.3), 0px 1px 3px 1px rgba(60, 64, 67, 0.15);\n",
              "      fill: #174EA6;\n",
              "    }\n",
              "\n",
              "    [theme=dark] .colab-df-convert {\n",
              "      background-color: #3B4455;\n",
              "      fill: #D2E3FC;\n",
              "    }\n",
              "\n",
              "    [theme=dark] .colab-df-convert:hover {\n",
              "      background-color: #434B5C;\n",
              "      box-shadow: 0px 1px 3px 1px rgba(0, 0, 0, 0.15);\n",
              "      filter: drop-shadow(0px 1px 2px rgba(0, 0, 0, 0.3));\n",
              "      fill: #FFFFFF;\n",
              "    }\n",
              "  </style>\n",
              "\n",
              "      <script>\n",
              "        const buttonEl =\n",
              "          document.querySelector('#df-e119b71d-092c-418d-a231-2408032640cc button.colab-df-convert');\n",
              "        buttonEl.style.display =\n",
              "          google.colab.kernel.accessAllowed ? 'block' : 'none';\n",
              "\n",
              "        async function convertToInteractive(key) {\n",
              "          const element = document.querySelector('#df-e119b71d-092c-418d-a231-2408032640cc');\n",
              "          const dataTable =\n",
              "            await google.colab.kernel.invokeFunction('convertToInteractive',\n",
              "                                                     [key], {});\n",
              "          if (!dataTable) return;\n",
              "\n",
              "          const docLinkHtml = 'Like what you see? Visit the ' +\n",
              "            '<a target=\"_blank\" href=https://colab.research.google.com/notebooks/data_table.ipynb>data table notebook</a>'\n",
              "            + ' to learn more about interactive tables.';\n",
              "          element.innerHTML = '';\n",
              "          dataTable['output_type'] = 'display_data';\n",
              "          await google.colab.output.renderOutput(dataTable, element);\n",
              "          const docLink = document.createElement('div');\n",
              "          docLink.innerHTML = docLinkHtml;\n",
              "          element.appendChild(docLink);\n",
              "        }\n",
              "      </script>\n",
              "    </div>\n",
              "  </div>\n",
              "  "
            ]
          },
          "metadata": {},
          "execution_count": 27
        }
      ]
    },
    {
      "cell_type": "markdown",
      "metadata": {
        "id": "v8wUYf8P_jvH"
      },
      "source": [
        "## 3 Remove duplicates\n",
        "Remove all duplicate rows."
      ]
    },
    {
      "cell_type": "code",
      "metadata": {
        "id": "SOW74ns1-iUc"
      },
      "source": [
        "# no need for anything fancy, just use the drop_duplicates function\n",
        "cleaned_df = df.drop_duplicates()"
      ],
      "execution_count": null,
      "outputs": []
    },
    {
      "cell_type": "code",
      "metadata": {
        "id": "vFAZigNb-uus",
        "colab": {
          "base_uri": "https://localhost:8080/",
          "height": 424
        },
        "outputId": "4a7d2b95-c682-4545-d9f1-6e8ba77cb441"
      },
      "source": [
        "# see how many rows remain\n",
        "cleaned_df"
      ],
      "execution_count": null,
      "outputs": [
        {
          "output_type": "execute_result",
          "data": {
            "text/plain": [
              "     protocol_type         service     flag  land logged_in is_host_login  \\\n",
              "0          b'icmp'        b'ecr_i'    b'SF'  b'0'      b'0'          b'0'   \n",
              "5           b'tcp'         b'smtp'    b'SF'  b'0'      b'1'          b'0'   \n",
              "6           b'udp'     b'domain_u'    b'SF'  b'0'      b'0'          b'0'   \n",
              "9           b'tcp'      b'private'    b'S0'  b'0'      b'0'          b'0'   \n",
              "19          b'tcp'     b'ftp_data'    b'SF'  b'0'      b'1'          b'0'   \n",
              "...            ...             ...      ...   ...       ...           ...   \n",
              "9507        b'tcp'  b'netbios_dgm'    b'S0'  b'0'      b'0'          b'0'   \n",
              "9521        b'tcp'      b'daytime'    b'S0'  b'0'      b'0'          b'0'   \n",
              "9586        b'tcp'      b'sql_net'   b'REJ'  b'0'      b'0'          b'0'   \n",
              "9592        b'tcp'       b'telnet'  b'RSTO'  b'0'      b'0'          b'0'   \n",
              "9993        b'tcp'     b'ftp_data'    b'SF'  b'0'      b'1'          b'0'   \n",
              "\n",
              "     is_guest_login         label  \n",
              "0              b'0'      b'smurf'  \n",
              "5              b'0'     b'normal'  \n",
              "6              b'0'     b'normal'  \n",
              "9              b'0'    b'neptune'  \n",
              "19             b'0'     b'normal'  \n",
              "...             ...           ...  \n",
              "9507           b'0'    b'neptune'  \n",
              "9521           b'0'    b'neptune'  \n",
              "9586           b'0'    b'neptune'  \n",
              "9592           b'0'     b'normal'  \n",
              "9993           b'0'  b'ftp_write'  \n",
              "\n",
              "[119 rows x 8 columns]"
            ],
            "text/html": [
              "\n",
              "  <div id=\"df-39db2fb2-181d-4535-a149-6a66df1c4ca8\">\n",
              "    <div class=\"colab-df-container\">\n",
              "      <div>\n",
              "<style scoped>\n",
              "    .dataframe tbody tr th:only-of-type {\n",
              "        vertical-align: middle;\n",
              "    }\n",
              "\n",
              "    .dataframe tbody tr th {\n",
              "        vertical-align: top;\n",
              "    }\n",
              "\n",
              "    .dataframe thead th {\n",
              "        text-align: right;\n",
              "    }\n",
              "</style>\n",
              "<table border=\"1\" class=\"dataframe\">\n",
              "  <thead>\n",
              "    <tr style=\"text-align: right;\">\n",
              "      <th></th>\n",
              "      <th>protocol_type</th>\n",
              "      <th>service</th>\n",
              "      <th>flag</th>\n",
              "      <th>land</th>\n",
              "      <th>logged_in</th>\n",
              "      <th>is_host_login</th>\n",
              "      <th>is_guest_login</th>\n",
              "      <th>label</th>\n",
              "    </tr>\n",
              "  </thead>\n",
              "  <tbody>\n",
              "    <tr>\n",
              "      <th>0</th>\n",
              "      <td>b'icmp'</td>\n",
              "      <td>b'ecr_i'</td>\n",
              "      <td>b'SF'</td>\n",
              "      <td>b'0'</td>\n",
              "      <td>b'0'</td>\n",
              "      <td>b'0'</td>\n",
              "      <td>b'0'</td>\n",
              "      <td>b'smurf'</td>\n",
              "    </tr>\n",
              "    <tr>\n",
              "      <th>5</th>\n",
              "      <td>b'tcp'</td>\n",
              "      <td>b'smtp'</td>\n",
              "      <td>b'SF'</td>\n",
              "      <td>b'0'</td>\n",
              "      <td>b'1'</td>\n",
              "      <td>b'0'</td>\n",
              "      <td>b'0'</td>\n",
              "      <td>b'normal'</td>\n",
              "    </tr>\n",
              "    <tr>\n",
              "      <th>6</th>\n",
              "      <td>b'udp'</td>\n",
              "      <td>b'domain_u'</td>\n",
              "      <td>b'SF'</td>\n",
              "      <td>b'0'</td>\n",
              "      <td>b'0'</td>\n",
              "      <td>b'0'</td>\n",
              "      <td>b'0'</td>\n",
              "      <td>b'normal'</td>\n",
              "    </tr>\n",
              "    <tr>\n",
              "      <th>9</th>\n",
              "      <td>b'tcp'</td>\n",
              "      <td>b'private'</td>\n",
              "      <td>b'S0'</td>\n",
              "      <td>b'0'</td>\n",
              "      <td>b'0'</td>\n",
              "      <td>b'0'</td>\n",
              "      <td>b'0'</td>\n",
              "      <td>b'neptune'</td>\n",
              "    </tr>\n",
              "    <tr>\n",
              "      <th>19</th>\n",
              "      <td>b'tcp'</td>\n",
              "      <td>b'ftp_data'</td>\n",
              "      <td>b'SF'</td>\n",
              "      <td>b'0'</td>\n",
              "      <td>b'1'</td>\n",
              "      <td>b'0'</td>\n",
              "      <td>b'0'</td>\n",
              "      <td>b'normal'</td>\n",
              "    </tr>\n",
              "    <tr>\n",
              "      <th>...</th>\n",
              "      <td>...</td>\n",
              "      <td>...</td>\n",
              "      <td>...</td>\n",
              "      <td>...</td>\n",
              "      <td>...</td>\n",
              "      <td>...</td>\n",
              "      <td>...</td>\n",
              "      <td>...</td>\n",
              "    </tr>\n",
              "    <tr>\n",
              "      <th>9507</th>\n",
              "      <td>b'tcp'</td>\n",
              "      <td>b'netbios_dgm'</td>\n",
              "      <td>b'S0'</td>\n",
              "      <td>b'0'</td>\n",
              "      <td>b'0'</td>\n",
              "      <td>b'0'</td>\n",
              "      <td>b'0'</td>\n",
              "      <td>b'neptune'</td>\n",
              "    </tr>\n",
              "    <tr>\n",
              "      <th>9521</th>\n",
              "      <td>b'tcp'</td>\n",
              "      <td>b'daytime'</td>\n",
              "      <td>b'S0'</td>\n",
              "      <td>b'0'</td>\n",
              "      <td>b'0'</td>\n",
              "      <td>b'0'</td>\n",
              "      <td>b'0'</td>\n",
              "      <td>b'neptune'</td>\n",
              "    </tr>\n",
              "    <tr>\n",
              "      <th>9586</th>\n",
              "      <td>b'tcp'</td>\n",
              "      <td>b'sql_net'</td>\n",
              "      <td>b'REJ'</td>\n",
              "      <td>b'0'</td>\n",
              "      <td>b'0'</td>\n",
              "      <td>b'0'</td>\n",
              "      <td>b'0'</td>\n",
              "      <td>b'neptune'</td>\n",
              "    </tr>\n",
              "    <tr>\n",
              "      <th>9592</th>\n",
              "      <td>b'tcp'</td>\n",
              "      <td>b'telnet'</td>\n",
              "      <td>b'RSTO'</td>\n",
              "      <td>b'0'</td>\n",
              "      <td>b'0'</td>\n",
              "      <td>b'0'</td>\n",
              "      <td>b'0'</td>\n",
              "      <td>b'normal'</td>\n",
              "    </tr>\n",
              "    <tr>\n",
              "      <th>9993</th>\n",
              "      <td>b'tcp'</td>\n",
              "      <td>b'ftp_data'</td>\n",
              "      <td>b'SF'</td>\n",
              "      <td>b'0'</td>\n",
              "      <td>b'1'</td>\n",
              "      <td>b'0'</td>\n",
              "      <td>b'0'</td>\n",
              "      <td>b'ftp_write'</td>\n",
              "    </tr>\n",
              "  </tbody>\n",
              "</table>\n",
              "<p>119 rows × 8 columns</p>\n",
              "</div>\n",
              "      <button class=\"colab-df-convert\" onclick=\"convertToInteractive('df-39db2fb2-181d-4535-a149-6a66df1c4ca8')\"\n",
              "              title=\"Convert this dataframe to an interactive table.\"\n",
              "              style=\"display:none;\">\n",
              "        \n",
              "  <svg xmlns=\"http://www.w3.org/2000/svg\" height=\"24px\"viewBox=\"0 0 24 24\"\n",
              "       width=\"24px\">\n",
              "    <path d=\"M0 0h24v24H0V0z\" fill=\"none\"/>\n",
              "    <path d=\"M18.56 5.44l.94 2.06.94-2.06 2.06-.94-2.06-.94-.94-2.06-.94 2.06-2.06.94zm-11 1L8.5 8.5l.94-2.06 2.06-.94-2.06-.94L8.5 2.5l-.94 2.06-2.06.94zm10 10l.94 2.06.94-2.06 2.06-.94-2.06-.94-.94-2.06-.94 2.06-2.06.94z\"/><path d=\"M17.41 7.96l-1.37-1.37c-.4-.4-.92-.59-1.43-.59-.52 0-1.04.2-1.43.59L10.3 9.45l-7.72 7.72c-.78.78-.78 2.05 0 2.83L4 21.41c.39.39.9.59 1.41.59.51 0 1.02-.2 1.41-.59l7.78-7.78 2.81-2.81c.8-.78.8-2.07 0-2.86zM5.41 20L4 18.59l7.72-7.72 1.47 1.35L5.41 20z\"/>\n",
              "  </svg>\n",
              "      </button>\n",
              "      \n",
              "  <style>\n",
              "    .colab-df-container {\n",
              "      display:flex;\n",
              "      flex-wrap:wrap;\n",
              "      gap: 12px;\n",
              "    }\n",
              "\n",
              "    .colab-df-convert {\n",
              "      background-color: #E8F0FE;\n",
              "      border: none;\n",
              "      border-radius: 50%;\n",
              "      cursor: pointer;\n",
              "      display: none;\n",
              "      fill: #1967D2;\n",
              "      height: 32px;\n",
              "      padding: 0 0 0 0;\n",
              "      width: 32px;\n",
              "    }\n",
              "\n",
              "    .colab-df-convert:hover {\n",
              "      background-color: #E2EBFA;\n",
              "      box-shadow: 0px 1px 2px rgba(60, 64, 67, 0.3), 0px 1px 3px 1px rgba(60, 64, 67, 0.15);\n",
              "      fill: #174EA6;\n",
              "    }\n",
              "\n",
              "    [theme=dark] .colab-df-convert {\n",
              "      background-color: #3B4455;\n",
              "      fill: #D2E3FC;\n",
              "    }\n",
              "\n",
              "    [theme=dark] .colab-df-convert:hover {\n",
              "      background-color: #434B5C;\n",
              "      box-shadow: 0px 1px 3px 1px rgba(0, 0, 0, 0.15);\n",
              "      filter: drop-shadow(0px 1px 2px rgba(0, 0, 0, 0.3));\n",
              "      fill: #FFFFFF;\n",
              "    }\n",
              "  </style>\n",
              "\n",
              "      <script>\n",
              "        const buttonEl =\n",
              "          document.querySelector('#df-39db2fb2-181d-4535-a149-6a66df1c4ca8 button.colab-df-convert');\n",
              "        buttonEl.style.display =\n",
              "          google.colab.kernel.accessAllowed ? 'block' : 'none';\n",
              "\n",
              "        async function convertToInteractive(key) {\n",
              "          const element = document.querySelector('#df-39db2fb2-181d-4535-a149-6a66df1c4ca8');\n",
              "          const dataTable =\n",
              "            await google.colab.kernel.invokeFunction('convertToInteractive',\n",
              "                                                     [key], {});\n",
              "          if (!dataTable) return;\n",
              "\n",
              "          const docLinkHtml = 'Like what you see? Visit the ' +\n",
              "            '<a target=\"_blank\" href=https://colab.research.google.com/notebooks/data_table.ipynb>data table notebook</a>'\n",
              "            + ' to learn more about interactive tables.';\n",
              "          element.innerHTML = '';\n",
              "          dataTable['output_type'] = 'display_data';\n",
              "          await google.colab.output.renderOutput(dataTable, element);\n",
              "          const docLink = document.createElement('div');\n",
              "          docLink.innerHTML = docLinkHtml;\n",
              "          element.appendChild(docLink);\n",
              "        }\n",
              "      </script>\n",
              "    </div>\n",
              "  </div>\n",
              "  "
            ]
          },
          "metadata": {},
          "execution_count": 29
        }
      ]
    },
    {
      "cell_type": "code",
      "source": [
        "# notice that we have 119 rows, but the row indexes haven't been updated\n",
        "# we can update them to avoid some confusion later\n",
        "cleaned_df.reset_index(inplace=True, drop=True)\n",
        "cleaned_df"
      ],
      "metadata": {
        "id": "JKlfpjoDin84",
        "colab": {
          "base_uri": "https://localhost:8080/",
          "height": 424
        },
        "outputId": "70de31f8-f98a-4c29-e5a7-f53feca8a380"
      },
      "execution_count": null,
      "outputs": [
        {
          "output_type": "execute_result",
          "data": {
            "text/plain": [
              "    protocol_type         service     flag  land logged_in is_host_login  \\\n",
              "0         b'icmp'        b'ecr_i'    b'SF'  b'0'      b'0'          b'0'   \n",
              "1          b'tcp'         b'smtp'    b'SF'  b'0'      b'1'          b'0'   \n",
              "2          b'udp'     b'domain_u'    b'SF'  b'0'      b'0'          b'0'   \n",
              "3          b'tcp'      b'private'    b'S0'  b'0'      b'0'          b'0'   \n",
              "4          b'tcp'     b'ftp_data'    b'SF'  b'0'      b'1'          b'0'   \n",
              "..            ...             ...      ...   ...       ...           ...   \n",
              "114        b'tcp'  b'netbios_dgm'    b'S0'  b'0'      b'0'          b'0'   \n",
              "115        b'tcp'      b'daytime'    b'S0'  b'0'      b'0'          b'0'   \n",
              "116        b'tcp'      b'sql_net'   b'REJ'  b'0'      b'0'          b'0'   \n",
              "117        b'tcp'       b'telnet'  b'RSTO'  b'0'      b'0'          b'0'   \n",
              "118        b'tcp'     b'ftp_data'    b'SF'  b'0'      b'1'          b'0'   \n",
              "\n",
              "    is_guest_login         label  \n",
              "0             b'0'      b'smurf'  \n",
              "1             b'0'     b'normal'  \n",
              "2             b'0'     b'normal'  \n",
              "3             b'0'    b'neptune'  \n",
              "4             b'0'     b'normal'  \n",
              "..             ...           ...  \n",
              "114           b'0'    b'neptune'  \n",
              "115           b'0'    b'neptune'  \n",
              "116           b'0'    b'neptune'  \n",
              "117           b'0'     b'normal'  \n",
              "118           b'0'  b'ftp_write'  \n",
              "\n",
              "[119 rows x 8 columns]"
            ],
            "text/html": [
              "\n",
              "  <div id=\"df-1031771c-f494-4f0f-b4b9-0262b2578428\">\n",
              "    <div class=\"colab-df-container\">\n",
              "      <div>\n",
              "<style scoped>\n",
              "    .dataframe tbody tr th:only-of-type {\n",
              "        vertical-align: middle;\n",
              "    }\n",
              "\n",
              "    .dataframe tbody tr th {\n",
              "        vertical-align: top;\n",
              "    }\n",
              "\n",
              "    .dataframe thead th {\n",
              "        text-align: right;\n",
              "    }\n",
              "</style>\n",
              "<table border=\"1\" class=\"dataframe\">\n",
              "  <thead>\n",
              "    <tr style=\"text-align: right;\">\n",
              "      <th></th>\n",
              "      <th>protocol_type</th>\n",
              "      <th>service</th>\n",
              "      <th>flag</th>\n",
              "      <th>land</th>\n",
              "      <th>logged_in</th>\n",
              "      <th>is_host_login</th>\n",
              "      <th>is_guest_login</th>\n",
              "      <th>label</th>\n",
              "    </tr>\n",
              "  </thead>\n",
              "  <tbody>\n",
              "    <tr>\n",
              "      <th>0</th>\n",
              "      <td>b'icmp'</td>\n",
              "      <td>b'ecr_i'</td>\n",
              "      <td>b'SF'</td>\n",
              "      <td>b'0'</td>\n",
              "      <td>b'0'</td>\n",
              "      <td>b'0'</td>\n",
              "      <td>b'0'</td>\n",
              "      <td>b'smurf'</td>\n",
              "    </tr>\n",
              "    <tr>\n",
              "      <th>1</th>\n",
              "      <td>b'tcp'</td>\n",
              "      <td>b'smtp'</td>\n",
              "      <td>b'SF'</td>\n",
              "      <td>b'0'</td>\n",
              "      <td>b'1'</td>\n",
              "      <td>b'0'</td>\n",
              "      <td>b'0'</td>\n",
              "      <td>b'normal'</td>\n",
              "    </tr>\n",
              "    <tr>\n",
              "      <th>2</th>\n",
              "      <td>b'udp'</td>\n",
              "      <td>b'domain_u'</td>\n",
              "      <td>b'SF'</td>\n",
              "      <td>b'0'</td>\n",
              "      <td>b'0'</td>\n",
              "      <td>b'0'</td>\n",
              "      <td>b'0'</td>\n",
              "      <td>b'normal'</td>\n",
              "    </tr>\n",
              "    <tr>\n",
              "      <th>3</th>\n",
              "      <td>b'tcp'</td>\n",
              "      <td>b'private'</td>\n",
              "      <td>b'S0'</td>\n",
              "      <td>b'0'</td>\n",
              "      <td>b'0'</td>\n",
              "      <td>b'0'</td>\n",
              "      <td>b'0'</td>\n",
              "      <td>b'neptune'</td>\n",
              "    </tr>\n",
              "    <tr>\n",
              "      <th>4</th>\n",
              "      <td>b'tcp'</td>\n",
              "      <td>b'ftp_data'</td>\n",
              "      <td>b'SF'</td>\n",
              "      <td>b'0'</td>\n",
              "      <td>b'1'</td>\n",
              "      <td>b'0'</td>\n",
              "      <td>b'0'</td>\n",
              "      <td>b'normal'</td>\n",
              "    </tr>\n",
              "    <tr>\n",
              "      <th>...</th>\n",
              "      <td>...</td>\n",
              "      <td>...</td>\n",
              "      <td>...</td>\n",
              "      <td>...</td>\n",
              "      <td>...</td>\n",
              "      <td>...</td>\n",
              "      <td>...</td>\n",
              "      <td>...</td>\n",
              "    </tr>\n",
              "    <tr>\n",
              "      <th>114</th>\n",
              "      <td>b'tcp'</td>\n",
              "      <td>b'netbios_dgm'</td>\n",
              "      <td>b'S0'</td>\n",
              "      <td>b'0'</td>\n",
              "      <td>b'0'</td>\n",
              "      <td>b'0'</td>\n",
              "      <td>b'0'</td>\n",
              "      <td>b'neptune'</td>\n",
              "    </tr>\n",
              "    <tr>\n",
              "      <th>115</th>\n",
              "      <td>b'tcp'</td>\n",
              "      <td>b'daytime'</td>\n",
              "      <td>b'S0'</td>\n",
              "      <td>b'0'</td>\n",
              "      <td>b'0'</td>\n",
              "      <td>b'0'</td>\n",
              "      <td>b'0'</td>\n",
              "      <td>b'neptune'</td>\n",
              "    </tr>\n",
              "    <tr>\n",
              "      <th>116</th>\n",
              "      <td>b'tcp'</td>\n",
              "      <td>b'sql_net'</td>\n",
              "      <td>b'REJ'</td>\n",
              "      <td>b'0'</td>\n",
              "      <td>b'0'</td>\n",
              "      <td>b'0'</td>\n",
              "      <td>b'0'</td>\n",
              "      <td>b'neptune'</td>\n",
              "    </tr>\n",
              "    <tr>\n",
              "      <th>117</th>\n",
              "      <td>b'tcp'</td>\n",
              "      <td>b'telnet'</td>\n",
              "      <td>b'RSTO'</td>\n",
              "      <td>b'0'</td>\n",
              "      <td>b'0'</td>\n",
              "      <td>b'0'</td>\n",
              "      <td>b'0'</td>\n",
              "      <td>b'normal'</td>\n",
              "    </tr>\n",
              "    <tr>\n",
              "      <th>118</th>\n",
              "      <td>b'tcp'</td>\n",
              "      <td>b'ftp_data'</td>\n",
              "      <td>b'SF'</td>\n",
              "      <td>b'0'</td>\n",
              "      <td>b'1'</td>\n",
              "      <td>b'0'</td>\n",
              "      <td>b'0'</td>\n",
              "      <td>b'ftp_write'</td>\n",
              "    </tr>\n",
              "  </tbody>\n",
              "</table>\n",
              "<p>119 rows × 8 columns</p>\n",
              "</div>\n",
              "      <button class=\"colab-df-convert\" onclick=\"convertToInteractive('df-1031771c-f494-4f0f-b4b9-0262b2578428')\"\n",
              "              title=\"Convert this dataframe to an interactive table.\"\n",
              "              style=\"display:none;\">\n",
              "        \n",
              "  <svg xmlns=\"http://www.w3.org/2000/svg\" height=\"24px\"viewBox=\"0 0 24 24\"\n",
              "       width=\"24px\">\n",
              "    <path d=\"M0 0h24v24H0V0z\" fill=\"none\"/>\n",
              "    <path d=\"M18.56 5.44l.94 2.06.94-2.06 2.06-.94-2.06-.94-.94-2.06-.94 2.06-2.06.94zm-11 1L8.5 8.5l.94-2.06 2.06-.94-2.06-.94L8.5 2.5l-.94 2.06-2.06.94zm10 10l.94 2.06.94-2.06 2.06-.94-2.06-.94-.94-2.06-.94 2.06-2.06.94z\"/><path d=\"M17.41 7.96l-1.37-1.37c-.4-.4-.92-.59-1.43-.59-.52 0-1.04.2-1.43.59L10.3 9.45l-7.72 7.72c-.78.78-.78 2.05 0 2.83L4 21.41c.39.39.9.59 1.41.59.51 0 1.02-.2 1.41-.59l7.78-7.78 2.81-2.81c.8-.78.8-2.07 0-2.86zM5.41 20L4 18.59l7.72-7.72 1.47 1.35L5.41 20z\"/>\n",
              "  </svg>\n",
              "      </button>\n",
              "      \n",
              "  <style>\n",
              "    .colab-df-container {\n",
              "      display:flex;\n",
              "      flex-wrap:wrap;\n",
              "      gap: 12px;\n",
              "    }\n",
              "\n",
              "    .colab-df-convert {\n",
              "      background-color: #E8F0FE;\n",
              "      border: none;\n",
              "      border-radius: 50%;\n",
              "      cursor: pointer;\n",
              "      display: none;\n",
              "      fill: #1967D2;\n",
              "      height: 32px;\n",
              "      padding: 0 0 0 0;\n",
              "      width: 32px;\n",
              "    }\n",
              "\n",
              "    .colab-df-convert:hover {\n",
              "      background-color: #E2EBFA;\n",
              "      box-shadow: 0px 1px 2px rgba(60, 64, 67, 0.3), 0px 1px 3px 1px rgba(60, 64, 67, 0.15);\n",
              "      fill: #174EA6;\n",
              "    }\n",
              "\n",
              "    [theme=dark] .colab-df-convert {\n",
              "      background-color: #3B4455;\n",
              "      fill: #D2E3FC;\n",
              "    }\n",
              "\n",
              "    [theme=dark] .colab-df-convert:hover {\n",
              "      background-color: #434B5C;\n",
              "      box-shadow: 0px 1px 3px 1px rgba(0, 0, 0, 0.15);\n",
              "      filter: drop-shadow(0px 1px 2px rgba(0, 0, 0, 0.3));\n",
              "      fill: #FFFFFF;\n",
              "    }\n",
              "  </style>\n",
              "\n",
              "      <script>\n",
              "        const buttonEl =\n",
              "          document.querySelector('#df-1031771c-f494-4f0f-b4b9-0262b2578428 button.colab-df-convert');\n",
              "        buttonEl.style.display =\n",
              "          google.colab.kernel.accessAllowed ? 'block' : 'none';\n",
              "\n",
              "        async function convertToInteractive(key) {\n",
              "          const element = document.querySelector('#df-1031771c-f494-4f0f-b4b9-0262b2578428');\n",
              "          const dataTable =\n",
              "            await google.colab.kernel.invokeFunction('convertToInteractive',\n",
              "                                                     [key], {});\n",
              "          if (!dataTable) return;\n",
              "\n",
              "          const docLinkHtml = 'Like what you see? Visit the ' +\n",
              "            '<a target=\"_blank\" href=https://colab.research.google.com/notebooks/data_table.ipynb>data table notebook</a>'\n",
              "            + ' to learn more about interactive tables.';\n",
              "          element.innerHTML = '';\n",
              "          dataTable['output_type'] = 'display_data';\n",
              "          await google.colab.output.renderOutput(dataTable, element);\n",
              "          const docLink = document.createElement('div');\n",
              "          docLink.innerHTML = docLinkHtml;\n",
              "          element.appendChild(docLink);\n",
              "        }\n",
              "      </script>\n",
              "    </div>\n",
              "  </div>\n",
              "  "
            ]
          },
          "metadata": {},
          "execution_count": 30
        }
      ]
    },
    {
      "cell_type": "markdown",
      "metadata": {
        "id": "8OOtYmb7_qMW"
      },
      "source": [
        "## 4 Randomly pick a data point and compute ...\n",
        "Randomly pick a data point (row) and compute it's similarity to all other rows uing:\n",
        "  - Inverse Occurance Frequency Measure\n",
        "  - Match Measure"
      ]
    },
    {
      "cell_type": "markdown",
      "metadata": {
        "id": "eU3Rv6Rd8bok"
      },
      "source": [
        "Firstly we must choose a row at random."
      ]
    },
    {
      "cell_type": "code",
      "metadata": {
        "id": "UdSI1hGF_pKw"
      },
      "source": [
        "import random"
      ],
      "execution_count": null,
      "outputs": []
    },
    {
      "cell_type": "code",
      "source": [
        "cleaned_df.shape[0]"
      ],
      "metadata": {
        "colab": {
          "base_uri": "https://localhost:8080/"
        },
        "id": "H4xXA60gx2wH",
        "outputId": "1515c57e-d6be-4235-9a79-a4c11f6b3bf9"
      },
      "execution_count": null,
      "outputs": [
        {
          "output_type": "execute_result",
          "data": {
            "text/plain": [
              "119"
            ]
          },
          "metadata": {},
          "execution_count": 32
        }
      ]
    },
    {
      "cell_type": "code",
      "metadata": {
        "id": "LxX2JZXZ_0EO",
        "colab": {
          "base_uri": "https://localhost:8080/"
        },
        "outputId": "e1f1892b-ab28-4486-d969-3e58638d8514"
      },
      "source": [
        "my_row_number = random.randint(0, # minimum value to choose\n",
        "                               cleaned_df.shape[0]) # maximum value, should be the number of rows in our data frame\n",
        "my_row = cleaned_df.iloc[my_row_number]\n",
        "\n",
        "print(f\"I chose instance {my_row_number}:\")\n",
        "print( \"----------------------------\")\n",
        "print(my_row)"
      ],
      "execution_count": null,
      "outputs": [
        {
          "output_type": "stream",
          "name": "stdout",
          "text": [
            "I chose instance 70:\n",
            "----------------------------\n",
            "protocol_type         b'tcp'\n",
            "service              b'smtp'\n",
            "flag                   b'S0'\n",
            "land                    b'0'\n",
            "logged_in               b'0'\n",
            "is_host_login           b'0'\n",
            "is_guest_login          b'0'\n",
            "label             b'neptune'\n",
            "Name: 70, dtype: object\n"
          ]
        }
      ]
    },
    {
      "cell_type": "markdown",
      "metadata": {
        "id": "Hs6ZPb7i8f9e"
      },
      "source": [
        "### Inverse Occurance Frequency Meausre (IOFM)"
      ]
    },
    {
      "cell_type": "markdown",
      "metadata": {
        "id": "9Qf-OiYWCgAB"
      },
      "source": [
        "For inverse occurance frequency measure we need to determine what the frequencies are for each value of each attribute.\n",
        "The python builtin `set` type is useful here as it defines an unordered list of **unique** items."
      ]
    },
    {
      "cell_type": "code",
      "metadata": {
        "id": "fc639hJsAD9B",
        "colab": {
          "base_uri": "https://localhost:8080/"
        },
        "outputId": "b463564d-bf82-4752-8092-aecc45e69b05"
      },
      "source": [
        "# use set to reduce all our values to a set of unique values\n",
        "for attribute in cleaned_df.columns:\n",
        "  print(f\"Attribute {attribute} has values {set(cleaned_df[attribute])}\")"
      ],
      "execution_count": null,
      "outputs": [
        {
          "output_type": "stream",
          "name": "stdout",
          "text": [
            "Attribute protocol_type has values {b'tcp', b'icmp', b'udp'}\n",
            "Attribute service has values {b'ftp', b'efs', b'domain_u', b'auth', b'supdup', b'uucp', b'nntp', b'sunrpc', b'time', b'vmnet', b'telnet', b'login', b'http_443', b'ssh', b'netbios_ns', b'imap4', b'netstat', b'private', b'whois', b'discard', b'http', b'ecr_i', b'Z39_50', b'hostnames', b'csnet_ns', b'smtp', b'kshell', b'courier', b'ldap', b'other', b'nnsp', b'ctf', b'daytime', b'iso_tsap', b'klogin', b'mtp', b'exec', b'sql_net', b'ntp_u', b'finger', b'name', b'ftp_data', b'uucp_path', b'rje', b'eco_i', b'echo', b'shell', b'systat', b'remote_job', b'X11', b'netbios_dgm', b'pop_2', b'link', b'pop_3', b'urp_i', b'domain', b'bgp', b'netbios_ssn', b'printer'}\n",
            "Attribute flag has values {b'S2', b'S1', b'RSTR', b'S0', b'REJ', b'RSTO', b'OTH', b'SF'}\n",
            "Attribute land has values {b'0'}\n",
            "Attribute logged_in has values {b'1', b'0'}\n",
            "Attribute is_host_login has values {b'0'}\n",
            "Attribute is_guest_login has values {b'1', b'0'}\n",
            "Attribute label has values {b'ipsweep', b'ftp_write', b'buffer_overflow', b'back', b'portsweep', b'teardrop', b'normal', b'warezclient', b'smurf', b'guess_passwd', b'neptune', b'satan', b'pod'}\n"
          ]
        }
      ]
    },
    {
      "cell_type": "code",
      "metadata": {
        "id": "851Z3G3ICzfl"
      },
      "source": [
        "# lets create a function which will create a lookup table of the pk values\n",
        "def attribute_frequencies(dataframe):\n",
        "  \"\"\"\n",
        "  Construct a dictionary px, such that the probability of attribute a, having value x, for the given data set is:\n",
        "  pk[a][x]\n",
        "  \"\"\"\n",
        "  pk = {} # pk will be a dictionary which we can index using the attribute name\n",
        "  for attribute in dataframe.columns:\n",
        "    column = dataframe[attribute]\n",
        "    categories = set(column)\n",
        "    frequencies = {}\n",
        "    for c in categories:\n",
        "      frequencies[c] = np.sum(column == c)/column.shape[0]\n",
        "    pk[attribute] = frequencies\n",
        "  return pk"
      ],
      "execution_count": null,
      "outputs": []
    },
    {
      "cell_type": "code",
      "metadata": {
        "id": "jrbZzjURFfzM"
      },
      "source": [
        "# test that the function works, hand looks to give sensible results\n",
        "pk = attribute_frequencies(cleaned_df)"
      ],
      "execution_count": null,
      "outputs": []
    },
    {
      "cell_type": "markdown",
      "source": [
        "In the above we have a dictionary `pk` which contains another set of dictionaries.\n",
        "This is how we construct our look up table.\n",
        "Therefore we have a double indexing:\n",
        "- `pk[attribute]` will select the lookup table for the given attribute. This is a map of `category -> frequency`\n",
        "- `pk[attribute][category]` will then select the given category and return the frequency.\n",
        "Finally, `first_row[attribute]` will extract the `category` corresponding to `attribute` from the first row."
      ],
      "metadata": {
        "id": "r1vtg-ErjBUj"
      }
    },
    {
      "cell_type": "code",
      "source": [
        "pk['service'][b'auth']"
      ],
      "metadata": {
        "colab": {
          "base_uri": "https://localhost:8080/"
        },
        "id": "YeC8gKlw0E5T",
        "outputId": "87ad9ab3-5454-4434-d0ca-672b4cdf3bf9"
      },
      "execution_count": null,
      "outputs": [
        {
          "output_type": "execute_result",
          "data": {
            "text/plain": [
              "0.025210084033613446"
            ]
          },
          "metadata": {},
          "execution_count": 37
        }
      ]
    },
    {
      "cell_type": "markdown",
      "metadata": {
        "id": "gpntEILvGmTr"
      },
      "source": [
        "Now we should create another functions with computes S defined as:\n",
        "\n",
        "$ S(x,y) = 1/p_k(x_i)^2 $ if $x_i = y_i$ and zero otherwise."
      ]
    },
    {
      "cell_type": "code",
      "metadata": {
        "id": "f0uk_dBFFmEq"
      },
      "source": [
        "def iofm(first_row, second_row):\n",
        "  \"\"\"\n",
        "  Compute the inverse occurance frequency measure (iofm) for two rows.\n",
        "  \"\"\"\n",
        "  sim = 0\n",
        "  # a pandas series (row) doesn't have columns or column names, but keys\n",
        "  for attribute in first_row.keys():\n",
        "    # we access the rows using these keys the same way we would columns of a dataframe\n",
        "    if first_row[attribute] == second_row[attribute]:\n",
        "      sim += 1/pk[attribute][first_row[attribute]]**2\n",
        "  return sim"
      ],
      "execution_count": null,
      "outputs": []
    },
    {
      "cell_type": "code",
      "metadata": {
        "id": "JucYk-jMHpMj",
        "colab": {
          "base_uri": "https://localhost:8080/"
        },
        "outputId": "1015e963-4178-43b7-d47e-2ce4d7d28fa6"
      },
      "source": [
        "# test that our similarity measure works\n",
        "# each row should be very similar to itself!\n",
        "iofm(my_row, my_row)"
      ],
      "execution_count": null,
      "outputs": [
        {
          "output_type": "execute_result",
          "data": {
            "text/plain": [
              "3553.818122445196"
            ]
          },
          "metadata": {},
          "execution_count": 39
        }
      ]
    },
    {
      "cell_type": "code",
      "metadata": {
        "id": "kpgNN9iSHy_N",
        "colab": {
          "base_uri": "https://localhost:8080/"
        },
        "outputId": "11e5620a-85d9-4976-b936-c40fd3020474"
      },
      "source": [
        "best_row = None\n",
        "best_similar = 0\n",
        "# iterating over rows we have to use the .iterrows() function\n",
        "# which returns both the row index, as well as the row\n",
        "for index, row in cleaned_df.iterrows():\n",
        "  if index != my_row_number: # don't allow my_row to be the best match!\n",
        "    similar = iofm(row, my_row) # compute the similarity between this row and my_row\n",
        "    if similar > best_similar:\n",
        "      best_row = row # update the best_row to be the current row\n",
        "      best_similar = similar # update the best_similar to be the just calculated similarity\n",
        "\n",
        "print(f\"My row is {my_row_number}\")\n",
        "print(f\"Using Inverse Occurance Frequency Measure the nearest neighbour for my row is:\\n{best_row}\\nwith similarity score of {similar}\")"
      ],
      "execution_count": null,
      "outputs": [
        {
          "output_type": "stream",
          "name": "stdout",
          "text": [
            "0\n",
            "1\n",
            "My row is 70\n",
            "Using Inverse Occurance Frequency Measure the nearest neighbour for my row is:\n",
            "protocol_type        b'tcp'\n",
            "service             b'smtp'\n",
            "flag                  b'SF'\n",
            "land                   b'0'\n",
            "logged_in              b'1'\n",
            "is_host_login          b'0'\n",
            "is_guest_login         b'0'\n",
            "label             b'normal'\n",
            "Name: 1, dtype: object\n",
            "with similarity score of 4.27135682271614\n"
          ]
        }
      ]
    },
    {
      "cell_type": "markdown",
      "metadata": {
        "id": "_OfaS1f28Qk-"
      },
      "source": [
        "### Overlap Measure\n",
        "\n"
      ]
    },
    {
      "cell_type": "markdown",
      "metadata": {
        "id": "8NSkg8ou9qk2"
      },
      "source": [
        "This is the same as the IOFM but simplified to\n",
        "\n",
        "$ S(x,y) = 1$ if $x_i = y_i$ and zero otherwise."
      ]
    },
    {
      "cell_type": "code",
      "metadata": {
        "id": "EnSs8ukm8nVL"
      },
      "source": [
        "def overlap(first_row, second_row):\n",
        "  \"\"\"\n",
        "  Compute the overlap measure for two rows.\n",
        "  \"\"\"\n",
        "  sim = 0\n",
        "  # a pandas series (row) doesn't have columns or column names, but keys\n",
        "  for attribute in first_row.keys():\n",
        "    # we access the rows using these keys the same way we would columns of a dataframe\n",
        "    if first_row[attribute] == second_row[attribute]:\n",
        "      sim += 1\n",
        "  return sim"
      ],
      "execution_count": null,
      "outputs": []
    },
    {
      "cell_type": "code",
      "metadata": {
        "id": "wU_RddaH90Pj",
        "colab": {
          "base_uri": "https://localhost:8080/"
        },
        "outputId": "7e93ef08-4c79-4a02-d834-427439bd8b8e"
      },
      "source": [
        "# test that our similarity measure works\n",
        "# each row should be very similar to itself!\n",
        "overlap(my_row, my_row)"
      ],
      "execution_count": null,
      "outputs": [
        {
          "output_type": "execute_result",
          "data": {
            "text/plain": [
              "8"
            ]
          },
          "metadata": {},
          "execution_count": 44
        }
      ]
    },
    {
      "cell_type": "code",
      "metadata": {
        "id": "M51NDbms926D",
        "colab": {
          "base_uri": "https://localhost:8080/"
        },
        "outputId": "4a1ebcfc-faa1-4807-812f-cab7afea6631"
      },
      "source": [
        "best_row = None\n",
        "best_similar = 0\n",
        "# iterating over rows we have to use the .iterrows() function\n",
        "# which returns both the row index, as well as the row\n",
        "for index, row in cleaned_df.iterrows():\n",
        "  if index != my_row_number: # don't allow my_row to be the best match!\n",
        "    similar = overlap(row, my_row)\n",
        "    if similar > best_similar:\n",
        "      best_similar = similar\n",
        "      best_row = row\n",
        "print(f\"Using Overlap Measure the nearest neighbour for my row is:\\n{best_row}\\nwith similarity score of {similar}\")"
      ],
      "execution_count": null,
      "outputs": [
        {
          "output_type": "stream",
          "name": "stdout",
          "text": [
            "Using Overlap Measure the nearest neighbour for my row is:\n",
            "protocol_type         b'tcp'\n",
            "service           b'private'\n",
            "flag                   b'S0'\n",
            "land                    b'0'\n",
            "logged_in               b'0'\n",
            "is_host_login           b'0'\n",
            "is_guest_login          b'0'\n",
            "label             b'neptune'\n",
            "Name: 3, dtype: object\n",
            "with similarity score of 4\n"
          ]
        }
      ]
    },
    {
      "cell_type": "markdown",
      "metadata": {
        "id": "Tb5tTK9M-JvK"
      },
      "source": [
        "## 5 Find the nearest neighbour\n",
        "\n",
        "Do your two nearest neighbour calculations agree?\n",
        "\n",
        "Do you exepect that your nerest neighbour is unique or just one among many?"
      ]
    },
    {
      "cell_type": "markdown",
      "metadata": {
        "id": "PgSFnGGW-cPa"
      },
      "source": [
        "Depending on your chosen random datapoint you may have different answers for part 1, however for part 2 our algorithm didn't record multiple matches for the largest similarity so we don't know if it's unique. For the overlap measure, given that the possible similarity scores are 1 to 8, I would think that there is some likelyhood that there may be multiple neighbours at a similarity of 4 that are equally good matches."
      ]
    }
  ]
}